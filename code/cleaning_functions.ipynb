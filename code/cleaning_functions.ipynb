{
 "cells": [
  {
   "cell_type": "code",
   "execution_count": 2,
   "metadata": {},
   "outputs": [],
   "source": [
    "import pandas as pd\n",
    "import numpy as np"
   ]
  },
  {
   "cell_type": "code",
   "execution_count": 1,
   "metadata": {},
   "outputs": [],
   "source": [
    "def should_drop(seq, min_len, max_len):\n",
    "    aa = \"AGVILFPYMTSHNQWRKDEC\"\n",
    "    if len(seq) < min_len:\n",
    "        return True\n",
    "    if len(seq) > max_len:\n",
    "        return True\n",
    "    for i in seq:\n",
    "        if i not in aa:\n",
    "            return True\n",
    "    return False"
   ]
  },
  {
   "cell_type": "code",
   "execution_count": null,
   "metadata": {},
   "outputs": [],
   "source": [
    "def drop_bad_seqs(df, min_len, max_len):\n",
    "    df[\"should_drop\"] = df[\"Sequence\"].apply(should_drop, args=(min_len, max_len))\n",
    "    df = df[df[\"should_drop\"]==False].copy()\n",
    "    df.drop(columns=[\"should_drop\"], inplace=True)\n",
    "    return df"
   ]
  },
  {
   "cell_type": "code",
   "execution_count": null,
   "metadata": {},
   "outputs": [],
   "source": [
    "def clean_df(path,has_interactors=True, excel=True, min_len=31, max_len=5000):\n",
    "    if excel:\n",
    "        df = pd.read_excel(path)\n",
    "    else:\n",
    "        df = pd.read_csv(path,sep='\\t')\n",
    "    df.set_index(\"Entry\",inplace=True)\n",
    "    \n",
    "    df = drop_bad_seqs(df,min_len,max_len)\n",
    "    df.fillna(\"\",inplace=True)\n",
    "    \n",
    "    if has_interactors:\n",
    "        clean_interactors = lambda a:[b.strip() for b in a.split(\";\")]\n",
    "        df[\"Interacts with\"] = df[\"Interacts with\"].apply(clean_interactors)\n",
    "    \n",
    "    return df"
   ]
  },
  {
   "cell_type": "code",
   "execution_count": null,
   "metadata": {},
   "outputs": [],
   "source": [
    "def get_interacting_pairs(df):\n",
    "    interacting_pairs = set()\n",
    "    all_proteins = set()\n",
    "\n",
    "    for protein1 in df.index:\n",
    "        all_proteins.add(protein1)\n",
    "\n",
    "        for protein2 in df.loc[protein1,'Interacts with']:\n",
    "            all_proteins.add(protein2)\n",
    "            interacting_pairs.add(frozenset([protein1,protein2]))\n",
    "    \n",
    "    n = len(interacting_pairs)\n",
    "    \n",
    "    noninteracting_pairs = set()\n",
    "    \n",
    "    while len(noninteracting_pairs) < n:\n",
    "        pair_pick = frozenset(np.random.choice(list(all_proteins), 2, replace=False))\n",
    "        if (pair_pick not in interacting_pairs):\n",
    "            noninteracting_pairs.add(pair_pick)\n",
    "            \n",
    "    interact_df = pd.DataFrame({\"proteins\" : list(interacting_pairs), \"interacts\" : 1})\n",
    "    noninteract_df = pd.DataFrame({\"proteins\" : list(noninteracting_pairs), \"interacts\" : 0})\n",
    "    \n",
    "    return pd.concat([interact_df,noninteract_df])"
   ]
  },
  {
   "cell_type": "code",
   "execution_count": null,
   "metadata": {},
   "outputs": [],
   "source": [
    "def generate_protein_pairs(df):\n",
    "    \n",
    "    pairs_df = get_interacting_pairs(df)\n",
    "    pairs_df.set_index(\"proteins\", inplace=True)\n",
    "    \n",
    "    pairs_df[\"seq1\"] = np.nan\n",
    "    pairs_df[\"seq2\"] = np.nan\n",
    "\n",
    "    i = 0\n",
    "    for pair in pairs_df.index:\n",
    "        try:\n",
    "            pairs_df.iloc[i,1] = df.loc[list(pair)[0],\"Sequence\"]\n",
    "            pairs_df.iloc[i,2] = df.loc[list(pair)[1],\"Sequence\"]\n",
    "        except:\n",
    "            pass\n",
    "        i += 1\n",
    "        \n",
    "    pairs_df.dropna(inplace=True)\n",
    "    return pairs_df"
   ]
  },
  {
   "cell_type": "code",
   "execution_count": 3,
   "metadata": {},
   "outputs": [],
   "source": [
    "def fill_interactors(df,all_prots):\n",
    "    covid_df = df.copy()\n",
    "    for id1,row in covid_df.iterrows():\n",
    "        for id2 in row[\"Interacts with\"]:\n",
    "            if id2 in covid_df.index:\n",
    "                if id2 in covid_df.loc[id1,\"Interacts with\"]:\n",
    "                    continue\n",
    "                else:\n",
    "                    covid_df.loc[id1,\"Interacts with\"].append(id2)\n",
    "            elif id2 in all_prots.index:\n",
    "                covid_df.loc[id2,\"Sequence\"] = all_prots.loc[id2,\"Sequence\"]\n",
    "                covid_df.loc[id2,\"Interacts with\"] = [id1]\n",
    "    return covid_df"
   ]
  }
 ],
 "metadata": {
  "kernelspec": {
   "display_name": "Python 3",
   "language": "python",
   "name": "python3"
  },
  "language_info": {
   "codemirror_mode": {
    "name": "ipython",
    "version": 3
   },
   "file_extension": ".py",
   "mimetype": "text/x-python",
   "name": "python",
   "nbconvert_exporter": "python",
   "pygments_lexer": "ipython3",
   "version": "3.7.7"
  }
 },
 "nbformat": 4,
 "nbformat_minor": 4
}
