{
 "cells": [
  {
   "cell_type": "code",
   "execution_count": 6,
   "metadata": {},
   "outputs": [],
   "source": [
    "import pandas as pd\n",
    "import numpy as np"
   ]
  },
  {
   "cell_type": "code",
   "execution_count": 7,
   "metadata": {},
   "outputs": [],
   "source": [
    "aa_clusters ={\"A\":1,\"G\":1,\"V\":1,\n",
    "              \"I\":2,\"L\":2,\"F\":2,\"P\":2,\n",
    "              \"Y\":3,\"M\":3,\"T\":3,\"S\":3,\n",
    "              \"H\":4,\"N\":4,\"Q\":4,\"W\":4,\n",
    "              \"R\":5,\"K\":5,\n",
    "              \"D\":6,\"E\":6,\n",
    "              \"C\":7\n",
    "             }"
   ]
  },
  {
   "cell_type": "code",
   "execution_count": 2,
   "metadata": {},
   "outputs": [],
   "source": [
    "# Compile list of all permutations of triads\n",
    "\n",
    "triads = set()\n",
    "\n",
    "cluster_string = \"1234567\"\n",
    "\n",
    "for aa1 in cluster_string:\n",
    "    for aa2 in cluster_string:\n",
    "        for aa3 in cluster_string:\n",
    "            triads.add(aa1+aa2+aa3)\n",
    "\n",
    "triads = list(triads)\n",
    "              \n",
    "triads.sort()"
   ]
  },
  {
   "cell_type": "code",
   "execution_count": 3,
   "metadata": {},
   "outputs": [],
   "source": [
    "def create_feature_vector(sequence):\n",
    "    features = {}\n",
    "    for i in triads:\n",
    "        features[i] = 0\n",
    "        \n",
    "    for i in range(len(sequence)-2):\n",
    "        features[sequence[i:i+3]] += 1\n",
    "    \n",
    "    return features"
   ]
  },
  {
   "cell_type": "code",
   "execution_count": 4,
   "metadata": {},
   "outputs": [],
   "source": [
    "def apply_cluster(sequence):\n",
    "    \n",
    "    new_seq = \"\"\n",
    "    for i in sequence:\n",
    "        new_seq += str(aa_clusters[i])\n",
    "        \n",
    "    return new_seq"
   ]
  },
  {
   "cell_type": "code",
   "execution_count": 10,
   "metadata": {},
   "outputs": [],
   "source": [
    "def apply_clusters(df):\n",
    "    df[\"seq1_clusters\"] = df[\"seq1\"].apply(apply_cluster).apply(create_feature_vector)\n",
    "    df[\"seq2_clusters\"] = df[\"seq2\"].apply(apply_cluster).apply(create_feature_vector)\n",
    "    return df"
   ]
  },
  {
   "cell_type": "code",
   "execution_count": null,
   "metadata": {},
   "outputs": [],
   "source": []
  }
 ],
 "metadata": {
  "kernelspec": {
   "display_name": "Python 3",
   "language": "python",
   "name": "python3"
  },
  "language_info": {
   "codemirror_mode": {
    "name": "ipython",
    "version": 3
   },
   "file_extension": ".py",
   "mimetype": "text/x-python",
   "name": "python",
   "nbconvert_exporter": "python",
   "pygments_lexer": "ipython3",
   "version": "3.7.7"
  }
 },
 "nbformat": 4,
 "nbformat_minor": 4
}
