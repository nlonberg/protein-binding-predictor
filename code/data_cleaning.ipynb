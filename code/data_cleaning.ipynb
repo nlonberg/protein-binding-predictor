{
 "cells": [
  {
   "cell_type": "code",
   "execution_count": 23,
   "metadata": {},
   "outputs": [],
   "source": [
    "%run cleaning_functions.ipynb\n",
    "from gensim.models import Word2Vec"
   ]
  },
  {
   "cell_type": "markdown",
   "metadata": {},
   "source": [
    "### Input Variables Here:"
   ]
  },
  {
   "cell_type": "code",
   "execution_count": 56,
   "metadata": {},
   "outputs": [],
   "source": [
    "DATA_PATH = \"../data/\"\n",
    "ORGANISM = \"human\" #\"yeast\""
   ]
  },
  {
   "cell_type": "markdown",
   "metadata": {},
   "source": [
    "### Build Training Data:"
   ]
  },
  {
   "cell_type": "code",
   "execution_count": 57,
   "metadata": {},
   "outputs": [],
   "source": [
    "infile = DATA_PATH + ORGANISM + \".xlsx\"\n",
    "outfile = DATA_PATH + ORGANISM + \"_train.csv\""
   ]
  },
  {
   "cell_type": "code",
   "execution_count": 58,
   "metadata": {},
   "outputs": [],
   "source": [
    "df = clean_df(infile,max_len=500)\n",
    "train = generate_protein_pairs(df)\n",
    "train.to_csv(outfile)"
   ]
  },
  {
   "cell_type": "markdown",
   "metadata": {},
   "source": [
    "### Res2Vec Transfer Learning:"
   ]
  },
  {
   "cell_type": "code",
   "execution_count": 42,
   "metadata": {},
   "outputs": [],
   "source": [
    "all_prots = clean_df(DATA_PATH + \"all_prots.tab\",excel=False,has_interactors=False)"
   ]
  },
  {
   "cell_type": "code",
   "execution_count": null,
   "metadata": {},
   "outputs": [],
   "source": [
    "str_to_list = lambda seq: [aa for aa in seq]\n",
    "all_prots[\"Sequence\"]  = all_prots[\"Sequence\"].apply(str_to_list)"
   ]
  },
  {
   "cell_type": "code",
   "execution_count": null,
   "metadata": {},
   "outputs": [],
   "source": [
    "res2vec = Word2Vec(all_prots[\"Sequence\"], min_count=0,size=20,window=4,sg=1)"
   ]
  },
  {
   "cell_type": "code",
   "execution_count": null,
   "metadata": {},
   "outputs": [],
   "source": [
    "embeddings_dict = {}\n",
    "for i in 'AGVILFPYMTSHNQWRKDEC':\n",
    "    embeddings_dict[i] = list(res2vec.wv.get_vector(i))\n",
    "embeddings_df = pd.DataFrame(embeddings_dict).T\n",
    "embeddings_df.to_csv(DATA_PATH + \"res2vec.csv\")"
   ]
  },
  {
   "cell_type": "markdown",
   "metadata": {},
   "source": [
    "### Build SARS-CoV-2 Test Dataset:"
   ]
  },
  {
   "cell_type": "code",
   "execution_count": 43,
   "metadata": {},
   "outputs": [],
   "source": [
    "covid_df = clean_df(\"../data/SARS-CoV-2.tsv\",excel=False,max_len=500)\n",
    "covid_df = fill_interactors(covid_df,all_prots)\n",
    "test = generate_protein_pairs(covid_df)"
   ]
  },
  {
   "cell_type": "code",
   "execution_count": 45,
   "metadata": {},
   "outputs": [],
   "source": [
    "test.to_csv(DATA_PATH+\"test.csv\")"
   ]
  }
 ],
 "metadata": {
  "kernelspec": {
   "display_name": "Python 3",
   "language": "python",
   "name": "python3"
  },
  "language_info": {
   "codemirror_mode": {
    "name": "ipython",
    "version": 3
   },
   "file_extension": ".py",
   "mimetype": "text/x-python",
   "name": "python",
   "nbconvert_exporter": "python",
   "pygments_lexer": "ipython3",
   "version": "3.7.7"
  }
 },
 "nbformat": 4,
 "nbformat_minor": 4
}
