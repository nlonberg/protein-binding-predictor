{
 "cells": [
  {
   "cell_type": "code",
   "execution_count": 166,
   "metadata": {},
   "outputs": [],
   "source": [
    "from sklearn.cluster import KMeans\n",
    "from sklearn.preprocessing import StandardScaler\n",
    "import numpy as np\n",
    "import pandas as pd\n",
    "import matplotlib.pyplot as plt\n",
    "from sklearn.feature_extraction import DictVectorizer"
   ]
  },
  {
   "cell_type": "markdown",
   "metadata": {},
   "source": [
    "## Conjoint Triad Method\n",
    "The technique for counting conjoint triads is taken from Sun et. al. and the technique for clustering amino acids with similar physiochemical properties is taken from Shen et. al. The method will be performed in three steps."
   ]
  },
  {
   "cell_type": "markdown",
   "metadata": {},
   "source": [
    "### Step 1: Separate the amino acids into different ranks of side chain volume and dipole moment.\n",
    "\n",
    "We will take our ranks from the Shen et. al. The following dictionaries represent each categories rank."
   ]
  },
  {
   "cell_type": "code",
   "execution_count": 142,
   "metadata": {},
   "outputs": [],
   "source": [
    "volume_dict = {\"A\": 0,\n",
    "               \"R\": 1,\n",
    "               \"N\": 1,\n",
    "               \"D\": 1,\n",
    "               \"C\": 1,\n",
    "               \"Q\": 1,\n",
    "               \"E\": 1,\n",
    "               \"G\": 0,\n",
    "               \"H\": 1,\n",
    "               \"L\": 1,\n",
    "               \"I\": 1,\n",
    "               \"K\": 1,\n",
    "               \"M\": 1,\n",
    "               \"F\": 1,\n",
    "               \"P\": 1,\n",
    "               \"S\": 1,\n",
    "               \"T\": 1,\n",
    "               \"W\": 1,\n",
    "               \"Y\": 1,\n",
    "               \"V\": 0\n",
    "              }"
   ]
  },
  {
   "cell_type": "code",
   "execution_count": 143,
   "metadata": {},
   "outputs": [],
   "source": [
    "dipole_dict = {\"A\": 0,\n",
    "               \"R\": 3,\n",
    "               \"N\": 2,\n",
    "               \"D\": -3,\n",
    "               \"C\": -1,\n",
    "               \"Q\": 2,\n",
    "               \"E\": -3,\n",
    "               \"G\": 0,\n",
    "               \"H\": 2,\n",
    "               \"L\": 0,\n",
    "               \"I\": 0,\n",
    "               \"K\": 3,\n",
    "               \"M\": 1,\n",
    "               \"F\": 0,\n",
    "               \"P\": 0,\n",
    "               \"S\": 1,\n",
    "               \"T\": 1,\n",
    "               \"W\": 2,\n",
    "               \"Y\": 1,\n",
    "               \"V\": 0,\n",
    "              }"
   ]
  },
  {
   "cell_type": "code",
   "execution_count": 144,
   "metadata": {},
   "outputs": [],
   "source": [
    "# Let's organize our amino acid data into a dataframe\n",
    "clustering_df = pd.DataFrame([volume_dict, dipole_dict])\n",
    "clustering_df = clustering_df.T\n",
    "clustering_df.columns = [\"volume\", \"dipole\"]"
   ]
  },
  {
   "cell_type": "code",
   "execution_count": 145,
   "metadata": {},
   "outputs": [
    {
     "data": {
      "text/html": [
       "<div>\n",
       "<style scoped>\n",
       "    .dataframe tbody tr th:only-of-type {\n",
       "        vertical-align: middle;\n",
       "    }\n",
       "\n",
       "    .dataframe tbody tr th {\n",
       "        vertical-align: top;\n",
       "    }\n",
       "\n",
       "    .dataframe thead th {\n",
       "        text-align: right;\n",
       "    }\n",
       "</style>\n",
       "<table border=\"1\" class=\"dataframe\">\n",
       "  <thead>\n",
       "    <tr style=\"text-align: right;\">\n",
       "      <th></th>\n",
       "      <th>volume</th>\n",
       "      <th>dipole</th>\n",
       "    </tr>\n",
       "  </thead>\n",
       "  <tbody>\n",
       "    <tr>\n",
       "      <th>A</th>\n",
       "      <td>0</td>\n",
       "      <td>0</td>\n",
       "    </tr>\n",
       "    <tr>\n",
       "      <th>R</th>\n",
       "      <td>1</td>\n",
       "      <td>3</td>\n",
       "    </tr>\n",
       "    <tr>\n",
       "      <th>N</th>\n",
       "      <td>1</td>\n",
       "      <td>2</td>\n",
       "    </tr>\n",
       "    <tr>\n",
       "      <th>D</th>\n",
       "      <td>1</td>\n",
       "      <td>-3</td>\n",
       "    </tr>\n",
       "    <tr>\n",
       "      <th>C</th>\n",
       "      <td>1</td>\n",
       "      <td>-1</td>\n",
       "    </tr>\n",
       "  </tbody>\n",
       "</table>\n",
       "</div>"
      ],
      "text/plain": [
       "   volume  dipole\n",
       "A       0       0\n",
       "R       1       3\n",
       "N       1       2\n",
       "D       1      -3\n",
       "C       1      -1"
      ]
     },
     "execution_count": 145,
     "metadata": {},
     "output_type": "execute_result"
    }
   ],
   "source": [
    "clustering_df.head()"
   ]
  },
  {
   "cell_type": "markdown",
   "metadata": {},
   "source": [
    "### Step 2: Cluster the amino acids into groups according to these ranks."
   ]
  },
  {
   "cell_type": "code",
   "execution_count": 146,
   "metadata": {},
   "outputs": [],
   "source": [
    "# Let's scale our data\n",
    "ss = StandardScaler()\n",
    "X = ss.fit_transform(clustering_df)"
   ]
  },
  {
   "cell_type": "code",
   "execution_count": 147,
   "metadata": {},
   "outputs": [
    {
     "data": {
      "text/plain": [
       "KMeans(n_clusters=7, random_state=42)"
      ]
     },
     "execution_count": 147,
     "metadata": {},
     "output_type": "execute_result"
    }
   ],
   "source": [
    "# Let's use KMeans and set our n_clusters to 7 to match the number of clusters in the Shen et. al. paper\n",
    "km = KMeans(n_clusters=7, random_state=42)\n",
    "km.fit(X)"
   ]
  },
  {
   "cell_type": "code",
   "execution_count": 148,
   "metadata": {},
   "outputs": [
    {
     "data": {
      "text/html": [
       "<div>\n",
       "<style scoped>\n",
       "    .dataframe tbody tr th:only-of-type {\n",
       "        vertical-align: middle;\n",
       "    }\n",
       "\n",
       "    .dataframe tbody tr th {\n",
       "        vertical-align: top;\n",
       "    }\n",
       "\n",
       "    .dataframe thead th {\n",
       "        text-align: right;\n",
       "    }\n",
       "</style>\n",
       "<table border=\"1\" class=\"dataframe\">\n",
       "  <thead>\n",
       "    <tr style=\"text-align: right;\">\n",
       "      <th></th>\n",
       "      <th>volume</th>\n",
       "      <th>dipole</th>\n",
       "    </tr>\n",
       "  </thead>\n",
       "  <tbody>\n",
       "    <tr>\n",
       "      <th>A</th>\n",
       "      <td>0</td>\n",
       "      <td>0</td>\n",
       "    </tr>\n",
       "    <tr>\n",
       "      <th>R</th>\n",
       "      <td>1</td>\n",
       "      <td>3</td>\n",
       "    </tr>\n",
       "    <tr>\n",
       "      <th>N</th>\n",
       "      <td>1</td>\n",
       "      <td>2</td>\n",
       "    </tr>\n",
       "    <tr>\n",
       "      <th>D</th>\n",
       "      <td>1</td>\n",
       "      <td>-3</td>\n",
       "    </tr>\n",
       "    <tr>\n",
       "      <th>C</th>\n",
       "      <td>1</td>\n",
       "      <td>-1</td>\n",
       "    </tr>\n",
       "  </tbody>\n",
       "</table>\n",
       "</div>"
      ],
      "text/plain": [
       "   volume  dipole\n",
       "A       0       0\n",
       "R       1       3\n",
       "N       1       2\n",
       "D       1      -3\n",
       "C       1      -1"
      ]
     },
     "execution_count": 148,
     "metadata": {},
     "output_type": "execute_result"
    }
   ],
   "source": [
    "clustering_df.head()"
   ]
  },
  {
   "cell_type": "code",
   "execution_count": 149,
   "metadata": {},
   "outputs": [],
   "source": [
    "clustering_df[\"clusters\"] = km.labels_"
   ]
  },
  {
   "cell_type": "code",
   "execution_count": 161,
   "metadata": {},
   "outputs": [],
   "source": [
    "# organizing these clusters into groups we get the following dictionary\n",
    "aa_clusters ={\"A\":1,\"G\":1,\"V\":1,\n",
    "              \"I\":2,\"L\":2,\"F\":2,\"P\":2,\n",
    "              \"Y\":3,\"M\":3,\"T\":3,\"S\":3,\n",
    "              \"H\":4,\"N\":4,\"Q\":4,\"W\":4,\n",
    "              \"R\":5,\"K\":5,\n",
    "              \"D\":6,\"E\":6,\n",
    "              \"C\":7\n",
    "             }"
   ]
  },
  {
   "cell_type": "markdown",
   "metadata": {},
   "source": [
    "### Step 3: Create functions to allow conjoint modules to be built from inputted sequences.\n",
    "\n",
    "We wil make three functions:\n",
    "\n",
    "1.) conjoint_triad_preprocess will be called publicly on an entire dataframe.\n",
    "\n",
    "2.) apply_cluster will be called privately to replace an individual sequence with cluster numbers.\n",
    "\n",
    "3.) create_feature_vector will be called privately to apply a sliding window that counts the appearances of triads and translates them into a fixed feature vector."
   ]
  },
  {
   "cell_type": "code",
   "execution_count": 2,
   "metadata": {},
   "outputs": [],
   "source": [
    "# Compile list of all permutations of triads\n",
    "# Helper code for create_feature_vector\n",
    "\n",
    "triads = set()\n",
    "\n",
    "cluster_string = \"1234567\"\n",
    "\n",
    "for aa1 in cluster_string:\n",
    "    for aa2 in cluster_string:\n",
    "        for aa3 in cluster_string:\n",
    "            triads.add(aa1+aa2+aa3)\n",
    "\n",
    "triads = list(triads)\n",
    "              \n",
    "triads.sort()"
   ]
  },
  {
   "cell_type": "code",
   "execution_count": 163,
   "metadata": {},
   "outputs": [],
   "source": [
    "# called privately\n",
    "def create_feature_vector(sequence):\n",
    "    features = {}\n",
    "    for i in triads:\n",
    "        features[i] = 0\n",
    "        \n",
    "    for i in range(len(sequence)-2):\n",
    "        features[sequence[i:i+3]] += 1\n",
    "    \n",
    "    return features"
   ]
  },
  {
   "cell_type": "code",
   "execution_count": 164,
   "metadata": {},
   "outputs": [],
   "source": [
    "# called privately\n",
    "def apply_cluster(sequence):\n",
    "    \n",
    "    new_seq = \"\"\n",
    "    for i in sequence:\n",
    "        new_seq += str(aa_clusters[i])\n",
    "        \n",
    "    return new_seq"
   ]
  },
  {
   "cell_type": "code",
   "execution_count": 165,
   "metadata": {},
   "outputs": [],
   "source": [
    "# called publicly\n",
    "def conjoint_triad_preprocess(df):\n",
    "    df[\"seq1_clusters\"] = df[\"seq1\"].apply(apply_cluster).apply(create_feature_vector)\n",
    "    df[\"seq2_clusters\"] = df[\"seq2\"].apply(apply_cluster).apply(create_feature_vector)\n",
    "    df[\"seq_vec\"] = df[[\"seq1_clusters\",\"seq2_clusters\"]].values.tolist()\n",
    "    vec = DictVectorizer()\n",
    "    vec.fit(df.loc[0,\"seq_vec\"])\n",
    "    df[\"seq_vec\"] = df[\"seq_vec\"].apply(vec.transform)\n",
    "    vec.fit(df.loc[0,\"seq_vec\"])\n",
    "    df[\"seq_vec\"] = df[\"seq_vec\"].apply(vec.transform)\n",
    "    return df"
   ]
  }
 ],
 "metadata": {
  "kernelspec": {
   "display_name": "Python 3",
   "language": "python",
   "name": "python3"
  },
  "language_info": {
   "codemirror_mode": {
    "name": "ipython",
    "version": 3
   },
   "file_extension": ".py",
   "mimetype": "text/x-python",
   "name": "python",
   "nbconvert_exporter": "python",
   "pygments_lexer": "ipython3",
   "version": "3.7.7"
  }
 },
 "nbformat": 4,
 "nbformat_minor": 4
}
