{
 "cells": [
  {
   "cell_type": "code",
   "execution_count": 67,
   "metadata": {},
   "outputs": [],
   "source": [
    "import numpy as np\n",
    "import pandas as pd\n",
    "import matplotlib.pyplot as plt\n",
    "import seaborn as sns\n",
    "from sklearn.model_selection import train_test_split\n",
    "from statsmodels.tsa.stattools import acovf\n",
    "\n",
    "from tensorflow.keras.models import Sequential\n",
    "from tensorflow.keras.layers import Dense, Dropout, Flatten, Conv2D, MaxPooling2D"
   ]
  },
  {
   "cell_type": "code",
   "execution_count": 45,
   "metadata": {},
   "outputs": [
    {
     "data": {
      "text/html": [
       "<div>\n",
       "<style scoped>\n",
       "    .dataframe tbody tr th:only-of-type {\n",
       "        vertical-align: middle;\n",
       "    }\n",
       "\n",
       "    .dataframe tbody tr th {\n",
       "        vertical-align: top;\n",
       "    }\n",
       "\n",
       "    .dataframe thead th {\n",
       "        text-align: right;\n",
       "    }\n",
       "</style>\n",
       "<table border=\"1\" class=\"dataframe\">\n",
       "  <thead>\n",
       "    <tr style=\"text-align: right;\">\n",
       "      <th></th>\n",
       "      <th>interacts</th>\n",
       "      <th>seq1</th>\n",
       "      <th>seq2</th>\n",
       "    </tr>\n",
       "  </thead>\n",
       "  <tbody>\n",
       "    <tr>\n",
       "      <th>0</th>\n",
       "      <td>1</td>\n",
       "      <td>MHKTASQRLFPGPSYQNIKSIMEDSTILSDWTNSNKQKMKYDFSCE...</td>\n",
       "      <td>MERRRITSAARRSYVSSGEMMVGGLAPGRRLGPGTRLSLARMPPPL...</td>\n",
       "    </tr>\n",
       "    <tr>\n",
       "      <th>1</th>\n",
       "      <td>1</td>\n",
       "      <td>MPYNFCLPSLSCRTSCSSRPCVPPSCHGYTLPGACNIPANVSNCNW...</td>\n",
       "      <td>MSQAYSSSQRVSSYRRTFGGAPGFPLGSPLSSPVFPRAGFGSKGSS...</td>\n",
       "    </tr>\n",
       "    <tr>\n",
       "      <th>2</th>\n",
       "      <td>1</td>\n",
       "      <td>MSFSEMNRRTLAFRGGGLVTASGGGSTNNNAGGEASAWPPQPQPRQ...</td>\n",
       "      <td>MALCLKQVFAKDKTFRPRKRFEPGTQRFELYKKAQASLKSGLDLRS...</td>\n",
       "    </tr>\n",
       "    <tr>\n",
       "      <th>3</th>\n",
       "      <td>1</td>\n",
       "      <td>MKFQYKEDHPFEYRKKEGEKIRKKYPDRVPVIVEKAPKARVPDLDK...</td>\n",
       "      <td>MEPQVTLNVTFKNEIQSFLVSDPENTTWADIEAMVKVSFDLNTIQI...</td>\n",
       "    </tr>\n",
       "    <tr>\n",
       "      <th>4</th>\n",
       "      <td>1</td>\n",
       "      <td>MTILGTTFGMVFSLLQVVSGESGYAQNGDLEDAELDDYSFSCYSQL...</td>\n",
       "      <td>MRVAGAAKLVVAVAVFLLTFYVISQVFEIKMDASLGNLFARSALDT...</td>\n",
       "    </tr>\n",
       "  </tbody>\n",
       "</table>\n",
       "</div>"
      ],
      "text/plain": [
       "   interacts                                               seq1  \\\n",
       "0          1  MHKTASQRLFPGPSYQNIKSIMEDSTILSDWTNSNKQKMKYDFSCE...   \n",
       "1          1  MPYNFCLPSLSCRTSCSSRPCVPPSCHGYTLPGACNIPANVSNCNW...   \n",
       "2          1  MSFSEMNRRTLAFRGGGLVTASGGGSTNNNAGGEASAWPPQPQPRQ...   \n",
       "3          1  MKFQYKEDHPFEYRKKEGEKIRKKYPDRVPVIVEKAPKARVPDLDK...   \n",
       "4          1  MTILGTTFGMVFSLLQVVSGESGYAQNGDLEDAELDDYSFSCYSQL...   \n",
       "\n",
       "                                                seq2  \n",
       "0  MERRRITSAARRSYVSSGEMMVGGLAPGRRLGPGTRLSLARMPPPL...  \n",
       "1  MSQAYSSSQRVSSYRRTFGGAPGFPLGSPLSSPVFPRAGFGSKGSS...  \n",
       "2  MALCLKQVFAKDKTFRPRKRFEPGTQRFELYKKAQASLKSGLDLRS...  \n",
       "3  MEPQVTLNVTFKNEIQSFLVSDPENTTWADIEAMVKVSFDLNTIQI...  \n",
       "4  MRVAGAAKLVVAVAVFLLTFYVISQVFEIKMDASLGNLFARSALDT...  "
      ]
     },
     "execution_count": 45,
     "metadata": {},
     "output_type": "execute_result"
    }
   ],
   "source": [
    "df = pd.read_csv(\"../data/train_cleaned.csv\")\n",
    "df.head()"
   ]
  },
  {
   "cell_type": "code",
   "execution_count": 46,
   "metadata": {},
   "outputs": [],
   "source": [
    "aa_prop_dict = {\n",
    "     \"A\": [0.62, -0.5, 0.007187, 8.1, 0.046, 1.181, 27.5],\n",
    "     \"C\": [0.29, -1, -0.03661, 5.5, 0.128, 1.461, 44.6],\n",
    "     \"D\": [-0.9, 3, -0.02382, 13, 0.105, 1.587, 40],\n",
    "     \"E\": [-0.74, 3, 0.006802, 12.3, 0.151, 1.862, 62],\n",
    "     \"F\": [1.19, -2.5, 0.037552, 5.2, 0.29, 2.228, 115.5],\n",
    "     \"G\": [0.48, 0, 0.179052, 9, 0, 0.881, 0],\n",
    "     \"H\": [-0.4, -0.5, -0.01069, 10.4, 0.23, 2.025, 79],\n",
    "     \"I\": [1.38, -1.8, 0.021631, 5.2, 0.186, 1.81, 93.5],\n",
    "     \"K\": [-1.5, 3, 0.017708, 11.3, 0.219, 2.258, 100],\n",
    "     \"L\": [1.06, -1.8, 0.051672, 4.9, 0.186, 1.931, 93.5],\n",
    "     \"M\": [0.64, -1.3, 0.002683, 5.7, 0.221, 2.034, 94.1],\n",
    "     \"N\": [-0.78, 2, 0.005392, 11.6, 0.134, 1.655, 58.7],\n",
    "     \"P\": [0.12, 0, 0.239531, 8, 0.131, 1.468, 41.9],\n",
    "     \"Q\": [-0.85, 0.2, 0.049211, 10.5, 0.18, 1.932, 80.7],\n",
    "     \"R\": [-2.53, 3, 0.043587, 10.5, 0.291, 2.56, 105],\n",
    "     \"S\": [-0.18, 0.3, 0.004627, 9.2, 0.062, 1.298, 29.3],\n",
    "     \"T\": [-0.05, -0.4, 0.003352, 8.6, 0.108, 1.525, 51.3],\n",
    "     \"V\": [1.08, -1.5, 0.057004, 5.9, 0.14, 1.645, 71.5],\n",
    "     \"W\": [0.81, -3.4, 0.037977, 5.4, 0.409, 2.663, 145.5],\n",
    "     \"Y\": [0.26, -2.3, 117.3, 6.2, 0.298, 2.368, 0.023599]\n",
    "}"
   ]
  },
  {
   "cell_type": "code",
   "execution_count": 47,
   "metadata": {},
   "outputs": [],
   "source": [
    "aa_props = pd.DataFrame(aa_prop_dict)"
   ]
  },
  {
   "cell_type": "code",
   "execution_count": 48,
   "metadata": {},
   "outputs": [],
   "source": [
    "aa_props = aa_props.T"
   ]
  },
  {
   "cell_type": "code",
   "execution_count": 49,
   "metadata": {},
   "outputs": [
    {
     "data": {
      "text/html": [
       "<div>\n",
       "<style scoped>\n",
       "    .dataframe tbody tr th:only-of-type {\n",
       "        vertical-align: middle;\n",
       "    }\n",
       "\n",
       "    .dataframe tbody tr th {\n",
       "        vertical-align: top;\n",
       "    }\n",
       "\n",
       "    .dataframe thead th {\n",
       "        text-align: right;\n",
       "    }\n",
       "</style>\n",
       "<table border=\"1\" class=\"dataframe\">\n",
       "  <thead>\n",
       "    <tr style=\"text-align: right;\">\n",
       "      <th></th>\n",
       "      <th>0</th>\n",
       "      <th>1</th>\n",
       "      <th>2</th>\n",
       "      <th>3</th>\n",
       "      <th>4</th>\n",
       "      <th>5</th>\n",
       "      <th>6</th>\n",
       "    </tr>\n",
       "  </thead>\n",
       "  <tbody>\n",
       "    <tr>\n",
       "      <th>A</th>\n",
       "      <td>0.62</td>\n",
       "      <td>-0.5</td>\n",
       "      <td>0.007187</td>\n",
       "      <td>8.1</td>\n",
       "      <td>0.046</td>\n",
       "      <td>1.181</td>\n",
       "      <td>27.5</td>\n",
       "    </tr>\n",
       "    <tr>\n",
       "      <th>C</th>\n",
       "      <td>0.29</td>\n",
       "      <td>-1.0</td>\n",
       "      <td>-0.036610</td>\n",
       "      <td>5.5</td>\n",
       "      <td>0.128</td>\n",
       "      <td>1.461</td>\n",
       "      <td>44.6</td>\n",
       "    </tr>\n",
       "    <tr>\n",
       "      <th>D</th>\n",
       "      <td>-0.90</td>\n",
       "      <td>3.0</td>\n",
       "      <td>-0.023820</td>\n",
       "      <td>13.0</td>\n",
       "      <td>0.105</td>\n",
       "      <td>1.587</td>\n",
       "      <td>40.0</td>\n",
       "    </tr>\n",
       "    <tr>\n",
       "      <th>E</th>\n",
       "      <td>-0.74</td>\n",
       "      <td>3.0</td>\n",
       "      <td>0.006802</td>\n",
       "      <td>12.3</td>\n",
       "      <td>0.151</td>\n",
       "      <td>1.862</td>\n",
       "      <td>62.0</td>\n",
       "    </tr>\n",
       "    <tr>\n",
       "      <th>F</th>\n",
       "      <td>1.19</td>\n",
       "      <td>-2.5</td>\n",
       "      <td>0.037552</td>\n",
       "      <td>5.2</td>\n",
       "      <td>0.290</td>\n",
       "      <td>2.228</td>\n",
       "      <td>115.5</td>\n",
       "    </tr>\n",
       "  </tbody>\n",
       "</table>\n",
       "</div>"
      ],
      "text/plain": [
       "      0    1         2     3      4      5      6\n",
       "A  0.62 -0.5  0.007187   8.1  0.046  1.181   27.5\n",
       "C  0.29 -1.0 -0.036610   5.5  0.128  1.461   44.6\n",
       "D -0.90  3.0 -0.023820  13.0  0.105  1.587   40.0\n",
       "E -0.74  3.0  0.006802  12.3  0.151  1.862   62.0\n",
       "F  1.19 -2.5  0.037552   5.2  0.290  2.228  115.5"
      ]
     },
     "execution_count": 49,
     "metadata": {},
     "output_type": "execute_result"
    }
   ],
   "source": [
    "aa_props.head()"
   ]
  },
  {
   "cell_type": "code",
   "execution_count": 50,
   "metadata": {},
   "outputs": [],
   "source": [
    "lag = 30"
   ]
  },
  {
   "cell_type": "code",
   "execution_count": 51,
   "metadata": {},
   "outputs": [
    {
     "data": {
      "text/html": [
       "<div>\n",
       "<style scoped>\n",
       "    .dataframe tbody tr th:only-of-type {\n",
       "        vertical-align: middle;\n",
       "    }\n",
       "\n",
       "    .dataframe tbody tr th {\n",
       "        vertical-align: top;\n",
       "    }\n",
       "\n",
       "    .dataframe thead th {\n",
       "        text-align: right;\n",
       "    }\n",
       "</style>\n",
       "<table border=\"1\" class=\"dataframe\">\n",
       "  <thead>\n",
       "    <tr style=\"text-align: right;\">\n",
       "      <th></th>\n",
       "      <th>hydrophobicity</th>\n",
       "      <th>hydrophilicity</th>\n",
       "      <th>net_charge_index</th>\n",
       "      <th>polarity</th>\n",
       "      <th>polarizability</th>\n",
       "      <th>solvent_accessible_surface_area</th>\n",
       "      <th>volume</th>\n",
       "    </tr>\n",
       "  </thead>\n",
       "  <tbody>\n",
       "    <tr>\n",
       "      <th>A</th>\n",
       "      <td>0.62</td>\n",
       "      <td>-0.5</td>\n",
       "      <td>0.007187</td>\n",
       "      <td>8.1</td>\n",
       "      <td>0.046</td>\n",
       "      <td>1.181</td>\n",
       "      <td>27.5</td>\n",
       "    </tr>\n",
       "    <tr>\n",
       "      <th>C</th>\n",
       "      <td>0.29</td>\n",
       "      <td>-1.0</td>\n",
       "      <td>-0.036610</td>\n",
       "      <td>5.5</td>\n",
       "      <td>0.128</td>\n",
       "      <td>1.461</td>\n",
       "      <td>44.6</td>\n",
       "    </tr>\n",
       "    <tr>\n",
       "      <th>D</th>\n",
       "      <td>-0.90</td>\n",
       "      <td>3.0</td>\n",
       "      <td>-0.023820</td>\n",
       "      <td>13.0</td>\n",
       "      <td>0.105</td>\n",
       "      <td>1.587</td>\n",
       "      <td>40.0</td>\n",
       "    </tr>\n",
       "    <tr>\n",
       "      <th>E</th>\n",
       "      <td>-0.74</td>\n",
       "      <td>3.0</td>\n",
       "      <td>0.006802</td>\n",
       "      <td>12.3</td>\n",
       "      <td>0.151</td>\n",
       "      <td>1.862</td>\n",
       "      <td>62.0</td>\n",
       "    </tr>\n",
       "    <tr>\n",
       "      <th>F</th>\n",
       "      <td>1.19</td>\n",
       "      <td>-2.5</td>\n",
       "      <td>0.037552</td>\n",
       "      <td>5.2</td>\n",
       "      <td>0.290</td>\n",
       "      <td>2.228</td>\n",
       "      <td>115.5</td>\n",
       "    </tr>\n",
       "  </tbody>\n",
       "</table>\n",
       "</div>"
      ],
      "text/plain": [
       "   hydrophobicity  hydrophilicity  net_charge_index  polarity  polarizability  \\\n",
       "A            0.62            -0.5          0.007187       8.1           0.046   \n",
       "C            0.29            -1.0         -0.036610       5.5           0.128   \n",
       "D           -0.90             3.0         -0.023820      13.0           0.105   \n",
       "E           -0.74             3.0          0.006802      12.3           0.151   \n",
       "F            1.19            -2.5          0.037552       5.2           0.290   \n",
       "\n",
       "   solvent_accessible_surface_area  volume  \n",
       "A                            1.181    27.5  \n",
       "C                            1.461    44.6  \n",
       "D                            1.587    40.0  \n",
       "E                            1.862    62.0  \n",
       "F                            2.228   115.5  "
      ]
     },
     "execution_count": 51,
     "metadata": {},
     "output_type": "execute_result"
    }
   ],
   "source": [
    "columns = [\"hydrophobicity\", \"hydrophilicity\", \"net_charge_index\", \"polarity\", \"polarizability\", \"solvent_accessible_surface_area\", \"volume\"]\n",
    "aa_props.columns = columns\n",
    "aa_props.head()"
   ]
  },
  {
   "cell_type": "code",
   "execution_count": 52,
   "metadata": {},
   "outputs": [],
   "source": [
    "def seq_to_props(seq, prop):\n",
    "    prop_arr = []\n",
    "    for i in seq:\n",
    "        prop_arr.append(aa_props.loc[i,prop])\n",
    "    return prop_arr"
   ]
  },
  {
   "cell_type": "code",
   "execution_count": 53,
   "metadata": {},
   "outputs": [],
   "source": [
    "def generate_timeseries(row):\n",
    "    feature_vector = []\n",
    "    for seq in [\"seq1\",\"seq2\"]:\n",
    "        seq_vector = []\n",
    "        for prop in columns:\n",
    "            autocovariances = acovf(seq_to_props(row[seq],prop),nlag=lag)\n",
    "            seq_vector.append(autocovariances])\n",
    "        feature_vector.append(seq_vector)\n",
    "    return feature_vector            "
   ]
  },
  {
   "cell_type": "code",
   "execution_count": 54,
   "metadata": {},
   "outputs": [
    {
     "name": "stderr",
     "output_type": "stream",
     "text": [
      "/Users/nlonberg/anaconda3/envs/dsi/lib/python3.7/site-packages/statsmodels/tsa/stattools.py:436: FutureWarning: fft=True will become the default after the release of the 0.12 release of statsmodels. To suppress this warning, explicitly set fft=False.\n",
      "  warnings.warn(msg, FutureWarning)\n"
     ]
    }
   ],
   "source": [
    "df[\"autocovariances\"] = df.apply(generate_timeseries,axis=1)"
   ]
  },
  {
   "cell_type": "code",
   "execution_count": 60,
   "metadata": {},
   "outputs": [],
   "source": [
    "df.to_csv(\"../data/autocov_df.csv\", index=False)"
   ]
  },
  {
   "cell_type": "code",
   "execution_count": 55,
   "metadata": {},
   "outputs": [
    {
     "data": {
      "text/html": [
       "<div>\n",
       "<style scoped>\n",
       "    .dataframe tbody tr th:only-of-type {\n",
       "        vertical-align: middle;\n",
       "    }\n",
       "\n",
       "    .dataframe tbody tr th {\n",
       "        vertical-align: top;\n",
       "    }\n",
       "\n",
       "    .dataframe thead th {\n",
       "        text-align: right;\n",
       "    }\n",
       "</style>\n",
       "<table border=\"1\" class=\"dataframe\">\n",
       "  <thead>\n",
       "    <tr style=\"text-align: right;\">\n",
       "      <th></th>\n",
       "      <th>interacts</th>\n",
       "      <th>seq1</th>\n",
       "      <th>seq2</th>\n",
       "      <th>autocovariances</th>\n",
       "    </tr>\n",
       "  </thead>\n",
       "  <tbody>\n",
       "    <tr>\n",
       "      <th>0</th>\n",
       "      <td>1</td>\n",
       "      <td>MHKTASQRLFPGPSYQNIKSIMEDSTILSDWTNSNKQKMKYDFSCE...</td>\n",
       "      <td>MERRRITSAARRSYVSSGEMMVGGLAPGRRLGPGTRLSLARMPPPL...</td>\n",
       "      <td>[[[0.9794680221719504, 0.016610216791042895, -...</td>\n",
       "    </tr>\n",
       "    <tr>\n",
       "      <th>1</th>\n",
       "      <td>1</td>\n",
       "      <td>MPYNFCLPSLSCRTSCSSRPCVPPSCHGYTLPGACNIPANVSNCNW...</td>\n",
       "      <td>MSQAYSSSQRVSSYRRTFGGAPGFPLGSPLSSPVFPRAGFGSKGSS...</td>\n",
       "      <td>[[[1.0351499871336143, -0.11668483852807333, 0...</td>\n",
       "    </tr>\n",
       "    <tr>\n",
       "      <th>2</th>\n",
       "      <td>1</td>\n",
       "      <td>MSFSEMNRRTLAFRGGGLVTASGGGSTNNNAGGEASAWPPQPQPRQ...</td>\n",
       "      <td>MALCLKQVFAKDKTFRPRKRFEPGTQRFELYKKAQASLKSGLDLRS...</td>\n",
       "      <td>[[[0.9310965985228851, 0.08598766826115835, -0...</td>\n",
       "    </tr>\n",
       "    <tr>\n",
       "      <th>3</th>\n",
       "      <td>1</td>\n",
       "      <td>MKFQYKEDHPFEYRKKEGEKIRKKYPDRVPVIVEKAPKARVPDLDK...</td>\n",
       "      <td>MEPQVTLNVTFKNEIQSFLVSDPENTTWADIEAMVKVSFDLNTIQI...</td>\n",
       "      <td>[[[1.1963975600847394, 0.13297429428956933, 0....</td>\n",
       "    </tr>\n",
       "    <tr>\n",
       "      <th>4</th>\n",
       "      <td>1</td>\n",
       "      <td>MTILGTTFGMVFSLLQVVSGESGYAQNGDLEDAELDDYSFSCYSQL...</td>\n",
       "      <td>MRVAGAAKLVVAVAVFLLTFYVISQVFEIKMDASLGNLFARSALDT...</td>\n",
       "      <td>[[[0.9142170428277822, 0.011203750327072465, 0...</td>\n",
       "    </tr>\n",
       "  </tbody>\n",
       "</table>\n",
       "</div>"
      ],
      "text/plain": [
       "   interacts                                               seq1  \\\n",
       "0          1  MHKTASQRLFPGPSYQNIKSIMEDSTILSDWTNSNKQKMKYDFSCE...   \n",
       "1          1  MPYNFCLPSLSCRTSCSSRPCVPPSCHGYTLPGACNIPANVSNCNW...   \n",
       "2          1  MSFSEMNRRTLAFRGGGLVTASGGGSTNNNAGGEASAWPPQPQPRQ...   \n",
       "3          1  MKFQYKEDHPFEYRKKEGEKIRKKYPDRVPVIVEKAPKARVPDLDK...   \n",
       "4          1  MTILGTTFGMVFSLLQVVSGESGYAQNGDLEDAELDDYSFSCYSQL...   \n",
       "\n",
       "                                                seq2  \\\n",
       "0  MERRRITSAARRSYVSSGEMMVGGLAPGRRLGPGTRLSLARMPPPL...   \n",
       "1  MSQAYSSSQRVSSYRRTFGGAPGFPLGSPLSSPVFPRAGFGSKGSS...   \n",
       "2  MALCLKQVFAKDKTFRPRKRFEPGTQRFELYKKAQASLKSGLDLRS...   \n",
       "3  MEPQVTLNVTFKNEIQSFLVSDPENTTWADIEAMVKVSFDLNTIQI...   \n",
       "4  MRVAGAAKLVVAVAVFLLTFYVISQVFEIKMDASLGNLFARSALDT...   \n",
       "\n",
       "                                     autocovariances  \n",
       "0  [[[0.9794680221719504, 0.016610216791042895, -...  \n",
       "1  [[[1.0351499871336143, -0.11668483852807333, 0...  \n",
       "2  [[[0.9310965985228851, 0.08598766826115835, -0...  \n",
       "3  [[[1.1963975600847394, 0.13297429428956933, 0....  \n",
       "4  [[[0.9142170428277822, 0.011203750327072465, 0...  "
      ]
     },
     "execution_count": 55,
     "metadata": {},
     "output_type": "execute_result"
    }
   ],
   "source": [
    "df.head()"
   ]
  },
  {
   "cell_type": "code",
   "execution_count": 56,
   "metadata": {},
   "outputs": [],
   "source": [
    "features = \"autocovariances\"\n",
    "target = \"interacts\"\n",
    "\n",
    "X = df[features]\n",
    "y = df[target]\n",
    "\n",
    "X_train, X_test, y_train, y_test = train_test_split(X,y,random_state=42)"
   ]
  },
  {
   "cell_type": "code",
   "execution_count": 57,
   "metadata": {},
   "outputs": [],
   "source": [
    "X_train = np.stack(X_train)\n",
    "X_test = np.stack(X_test)\n",
    "\n",
    "y_train = np.asarray(y_train)\n",
    "y_test = np.asarray(y_test)"
   ]
  },
  {
   "cell_type": "code",
   "execution_count": 69,
   "metadata": {},
   "outputs": [
    {
     "data": {
      "text/plain": [
       "(85937, 2, 7, 31)"
      ]
     },
     "execution_count": 69,
     "metadata": {},
     "output_type": "execute_result"
    }
   ],
   "source": [
    "X_train.shape"
   ]
  },
  {
   "cell_type": "code",
   "execution_count": 63,
   "metadata": {},
   "outputs": [
    {
     "name": "stdout",
     "output_type": "stream",
     "text": [
      "Model: \"sequential_1\"\n",
      "_________________________________________________________________\n",
      "Layer (type)                 Output Shape              Param #   \n",
      "=================================================================\n",
      "flatten_1 (Flatten)          (None, 434)               0         \n",
      "_________________________________________________________________\n",
      "dense_2 (Dense)              (None, 100)               43500     \n",
      "_________________________________________________________________\n",
      "dense_3 (Dense)              (None, 1)                 101       \n",
      "=================================================================\n",
      "Total params: 43,601\n",
      "Trainable params: 43,601\n",
      "Non-trainable params: 0\n",
      "_________________________________________________________________\n"
     ]
    }
   ],
   "source": [
    "model = Sequential()\n",
    "\n",
    "model.add(Flatten(input_shape=(2, 7, 31)))\n",
    "\n",
    "model.add(Dense(100,\n",
    "                activation=\"relu\"\n",
    "               ))\n",
    "\n",
    "model.add(Dense(1,activation=\"sigmoid\"))\n",
    "\n",
    "model.summary()"
   ]
  },
  {
   "cell_type": "code",
   "execution_count": 64,
   "metadata": {},
   "outputs": [],
   "source": [
    "model.compile(loss=\"binary_crossentropy\", optimizer=\"adam\", metrics=[\"acc\"])"
   ]
  },
  {
   "cell_type": "code",
   "execution_count": 65,
   "metadata": {},
   "outputs": [
    {
     "name": "stdout",
     "output_type": "stream",
     "text": [
      "Train on 85937 samples, validate on 28646 samples\n",
      "Epoch 1/10\n",
      "85937/85937 [==============================] - 2s 20us/sample - loss: 4.9962 - acc: 0.5394 - val_loss: 1.7157 - val_acc: 0.5758\n",
      "Epoch 2/10\n",
      "85937/85937 [==============================] - 1s 10us/sample - loss: 1.3978 - acc: 0.5656 - val_loss: 1.2093 - val_acc: 0.5618\n",
      "Epoch 3/10\n",
      "85937/85937 [==============================] - 1s 9us/sample - loss: 1.1239 - acc: 0.5712 - val_loss: 0.9722 - val_acc: 0.5778\n",
      "Epoch 4/10\n",
      "85937/85937 [==============================] - 1s 9us/sample - loss: 0.9891 - acc: 0.5801 - val_loss: 1.1569 - val_acc: 0.5870\n",
      "Epoch 5/10\n",
      "85937/85937 [==============================] - 1s 9us/sample - loss: 0.9232 - acc: 0.5845 - val_loss: 0.9988 - val_acc: 0.5974\n",
      "Epoch 6/10\n",
      "85937/85937 [==============================] - 1s 9us/sample - loss: 0.9133 - acc: 0.5895 - val_loss: 1.0620 - val_acc: 0.5919\n",
      "Epoch 7/10\n",
      "85937/85937 [==============================] - 1s 9us/sample - loss: 0.9674 - acc: 0.5884 - val_loss: 1.1117 - val_acc: 0.5984\n",
      "Epoch 8/10\n",
      "85937/85937 [==============================] - 1s 10us/sample - loss: 0.8816 - acc: 0.5984 - val_loss: 0.8412 - val_acc: 0.6068\n",
      "Epoch 9/10\n",
      "85937/85937 [==============================] - 1s 10us/sample - loss: 0.8505 - acc: 0.6006 - val_loss: 0.9070 - val_acc: 0.5849\n",
      "Epoch 10/10\n",
      "85937/85937 [==============================] - 1s 10us/sample - loss: 0.8154 - acc: 0.6120 - val_loss: 0.9897 - val_acc: 0.5970\n"
     ]
    }
   ],
   "source": [
    "history = model.fit(x=X_train, y=y_train, epochs=10, batch_size=512,\n",
    "                    validation_data=(X_test,y_test)\n",
    "                   )"
   ]
  },
  {
   "cell_type": "code",
   "execution_count": 70,
   "metadata": {},
   "outputs": [],
   "source": [
    "# # Instantiate a CNN.\n",
    "# cnn_model = Sequential()\n",
    "\n",
    "# # Add a convolutional layer.\n",
    "# cnn_model.add(Conv2D(filters=16,             # number of filters\n",
    "#                        kernel_size=(3,3),      # height/width of filter\n",
    "#                        activation='relu',      # activation function \n",
    "#                        input_shape=(2, 7, 31))) # shape of input (image)\n",
    "\n",
    "# # Add a pooling layer.\n",
    "# cnn_model.add(MaxPooling2D(pool_size=(2,2))) # dimensions of region of pooling\n",
    "\n",
    "# # Add another convolutional layer.\n",
    "# cnn_model.add(Conv2D(64,\n",
    "#                        kernel_size=(3,3),\n",
    "#                        activation='relu'))\n",
    "\n",
    "# # Add another pooling layer.\n",
    "# cnn_model.add(MaxPooling2D(pool_size=(2,2)))\n",
    "\n",
    "# # We have to remember to flatten to go from the \"box\" to the vertical line of nodes!\n",
    "# cnn_model.add(Flatten())\n",
    "\n",
    "# # Add a densely-connected layer with 64 neurons.\n",
    "# cnn_model.add(Dense(64, activation='relu'))\n",
    "\n",
    "# # Let's try to avoid overfitting!\n",
    "# cnn_model.add(Dropout(0.5))\n",
    "\n",
    "# # Add a densely-connected layer with 32 neurons.\n",
    "# cnn_model.add(Dense(32, activation='relu'))\n",
    "\n",
    "# # Let's try to avoid overfitting!\n",
    "# cnn_model.add(Dropout(0.5))\n",
    "\n",
    "# # Add a final layer with 10 neurons.\n",
    "# cnn_model.add(Dense(1, activation='sigmoid'))\n",
    "\n",
    "# # Compile model\n",
    "# cnn_model.compile(loss='categorical_crossentropy',\n",
    "#                     optimizer='adam',\n",
    "#                     metrics=['accuracy'])"
   ]
  },
  {
   "cell_type": "code",
   "execution_count": null,
   "metadata": {},
   "outputs": [],
   "source": []
  }
 ],
 "metadata": {
  "kernelspec": {
   "display_name": "Python 3",
   "language": "python",
   "name": "python3"
  },
  "language_info": {
   "codemirror_mode": {
    "name": "ipython",
    "version": 3
   },
   "file_extension": ".py",
   "mimetype": "text/x-python",
   "name": "python",
   "nbconvert_exporter": "python",
   "pygments_lexer": "ipython3",
   "version": "3.7.7"
  }
 },
 "nbformat": 4,
 "nbformat_minor": 4
}
