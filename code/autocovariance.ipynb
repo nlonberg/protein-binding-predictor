{
 "cells": [
  {
   "cell_type": "code",
   "execution_count": 71,
   "metadata": {},
   "outputs": [],
   "source": [
    "import numpy as np\n",
    "import pandas as pd\n",
    "import matplotlib.pyplot as plt\n",
    "import seaborn as sns\n",
    "from sklearn.model_selection import train_test_split\n",
    "from statsmodels.tsa.stattools import acovf\n",
    "\n",
    "from tensorflow.keras.models import Sequential\n",
    "from tensorflow.keras.layers import Dense, Dropout, Flatten, Conv2D, MaxPooling2D, Conv1D, MaxPooling1D"
   ]
  },
  {
   "cell_type": "markdown",
   "metadata": {},
   "source": [
    "## Autocovariance\n",
    "\n",
    "The technique for autocovariance is taken from Sun et. al. It involves treating the sequence like time series data. Correlations, with a lag of 30, are performed on each of 7 categories of amino acid metrics.  This notebook is separated into two parts. Part One involves preprocessing data on the physiochemical properties of amino acids. Part Two involves compiling functions to perform autocovariance. "
   ]
  },
  {
   "cell_type": "markdown",
   "metadata": {},
   "source": [
    "### Part One: Prepare The Amino Acid Properties Dataset\n",
    "This dataset is taken from Sun et. al. and includes the hydrophobicity, hydrophilicity, net_charge_index, polarity, polarizability, solvent_accessible_surface_area, and side chain volume of amino acids."
   ]
  },
  {
   "cell_type": "code",
   "execution_count": 45,
   "metadata": {},
   "outputs": [
    {
     "data": {
      "text/html": [
       "<div>\n",
       "<style scoped>\n",
       "    .dataframe tbody tr th:only-of-type {\n",
       "        vertical-align: middle;\n",
       "    }\n",
       "\n",
       "    .dataframe tbody tr th {\n",
       "        vertical-align: top;\n",
       "    }\n",
       "\n",
       "    .dataframe thead th {\n",
       "        text-align: right;\n",
       "    }\n",
       "</style>\n",
       "<table border=\"1\" class=\"dataframe\">\n",
       "  <thead>\n",
       "    <tr style=\"text-align: right;\">\n",
       "      <th></th>\n",
       "      <th>interacts</th>\n",
       "      <th>seq1</th>\n",
       "      <th>seq2</th>\n",
       "    </tr>\n",
       "  </thead>\n",
       "  <tbody>\n",
       "    <tr>\n",
       "      <th>0</th>\n",
       "      <td>1</td>\n",
       "      <td>MHKTASQRLFPGPSYQNIKSIMEDSTILSDWTNSNKQKMKYDFSCE...</td>\n",
       "      <td>MERRRITSAARRSYVSSGEMMVGGLAPGRRLGPGTRLSLARMPPPL...</td>\n",
       "    </tr>\n",
       "    <tr>\n",
       "      <th>1</th>\n",
       "      <td>1</td>\n",
       "      <td>MPYNFCLPSLSCRTSCSSRPCVPPSCHGYTLPGACNIPANVSNCNW...</td>\n",
       "      <td>MSQAYSSSQRVSSYRRTFGGAPGFPLGSPLSSPVFPRAGFGSKGSS...</td>\n",
       "    </tr>\n",
       "    <tr>\n",
       "      <th>2</th>\n",
       "      <td>1</td>\n",
       "      <td>MSFSEMNRRTLAFRGGGLVTASGGGSTNNNAGGEASAWPPQPQPRQ...</td>\n",
       "      <td>MALCLKQVFAKDKTFRPRKRFEPGTQRFELYKKAQASLKSGLDLRS...</td>\n",
       "    </tr>\n",
       "    <tr>\n",
       "      <th>3</th>\n",
       "      <td>1</td>\n",
       "      <td>MKFQYKEDHPFEYRKKEGEKIRKKYPDRVPVIVEKAPKARVPDLDK...</td>\n",
       "      <td>MEPQVTLNVTFKNEIQSFLVSDPENTTWADIEAMVKVSFDLNTIQI...</td>\n",
       "    </tr>\n",
       "    <tr>\n",
       "      <th>4</th>\n",
       "      <td>1</td>\n",
       "      <td>MTILGTTFGMVFSLLQVVSGESGYAQNGDLEDAELDDYSFSCYSQL...</td>\n",
       "      <td>MRVAGAAKLVVAVAVFLLTFYVISQVFEIKMDASLGNLFARSALDT...</td>\n",
       "    </tr>\n",
       "  </tbody>\n",
       "</table>\n",
       "</div>"
      ],
      "text/plain": [
       "   interacts                                               seq1  \\\n",
       "0          1  MHKTASQRLFPGPSYQNIKSIMEDSTILSDWTNSNKQKMKYDFSCE...   \n",
       "1          1  MPYNFCLPSLSCRTSCSSRPCVPPSCHGYTLPGACNIPANVSNCNW...   \n",
       "2          1  MSFSEMNRRTLAFRGGGLVTASGGGSTNNNAGGEASAWPPQPQPRQ...   \n",
       "3          1  MKFQYKEDHPFEYRKKEGEKIRKKYPDRVPVIVEKAPKARVPDLDK...   \n",
       "4          1  MTILGTTFGMVFSLLQVVSGESGYAQNGDLEDAELDDYSFSCYSQL...   \n",
       "\n",
       "                                                seq2  \n",
       "0  MERRRITSAARRSYVSSGEMMVGGLAPGRRLGPGTRLSLARMPPPL...  \n",
       "1  MSQAYSSSQRVSSYRRTFGGAPGFPLGSPLSSPVFPRAGFGSKGSS...  \n",
       "2  MALCLKQVFAKDKTFRPRKRFEPGTQRFELYKKAQASLKSGLDLRS...  \n",
       "3  MEPQVTLNVTFKNEIQSFLVSDPENTTWADIEAMVKVSFDLNTIQI...  \n",
       "4  MRVAGAAKLVVAVAVFLLTFYVISQVFEIKMDASLGNLFARSALDT...  "
      ]
     },
     "execution_count": 45,
     "metadata": {},
     "output_type": "execute_result"
    }
   ],
   "source": [
    "df = pd.read_csv(\"../data/train_cleaned.csv\")\n",
    "df.head()"
   ]
  },
  {
   "cell_type": "code",
   "execution_count": 46,
   "metadata": {},
   "outputs": [],
   "source": [
    "aa_prop_dict = {\n",
    "     \"A\": [0.62, -0.5, 0.007187, 8.1, 0.046, 1.181, 27.5],\n",
    "     \"C\": [0.29, -1, -0.03661, 5.5, 0.128, 1.461, 44.6],\n",
    "     \"D\": [-0.9, 3, -0.02382, 13, 0.105, 1.587, 40],\n",
    "     \"E\": [-0.74, 3, 0.006802, 12.3, 0.151, 1.862, 62],\n",
    "     \"F\": [1.19, -2.5, 0.037552, 5.2, 0.29, 2.228, 115.5],\n",
    "     \"G\": [0.48, 0, 0.179052, 9, 0, 0.881, 0],\n",
    "     \"H\": [-0.4, -0.5, -0.01069, 10.4, 0.23, 2.025, 79],\n",
    "     \"I\": [1.38, -1.8, 0.021631, 5.2, 0.186, 1.81, 93.5],\n",
    "     \"K\": [-1.5, 3, 0.017708, 11.3, 0.219, 2.258, 100],\n",
    "     \"L\": [1.06, -1.8, 0.051672, 4.9, 0.186, 1.931, 93.5],\n",
    "     \"M\": [0.64, -1.3, 0.002683, 5.7, 0.221, 2.034, 94.1],\n",
    "     \"N\": [-0.78, 2, 0.005392, 11.6, 0.134, 1.655, 58.7],\n",
    "     \"P\": [0.12, 0, 0.239531, 8, 0.131, 1.468, 41.9],\n",
    "     \"Q\": [-0.85, 0.2, 0.049211, 10.5, 0.18, 1.932, 80.7],\n",
    "     \"R\": [-2.53, 3, 0.043587, 10.5, 0.291, 2.56, 105],\n",
    "     \"S\": [-0.18, 0.3, 0.004627, 9.2, 0.062, 1.298, 29.3],\n",
    "     \"T\": [-0.05, -0.4, 0.003352, 8.6, 0.108, 1.525, 51.3],\n",
    "     \"V\": [1.08, -1.5, 0.057004, 5.9, 0.14, 1.645, 71.5],\n",
    "     \"W\": [0.81, -3.4, 0.037977, 5.4, 0.409, 2.663, 145.5],\n",
    "     \"Y\": [0.26, -2.3, 117.3, 6.2, 0.298, 2.368, 0.023599]\n",
    "}"
   ]
  },
  {
   "cell_type": "code",
   "execution_count": 47,
   "metadata": {},
   "outputs": [],
   "source": [
    "aa_props = pd.DataFrame(aa_prop_dict)"
   ]
  },
  {
   "cell_type": "code",
   "execution_count": 48,
   "metadata": {},
   "outputs": [],
   "source": [
    "aa_props = aa_props.T"
   ]
  },
  {
   "cell_type": "code",
   "execution_count": 49,
   "metadata": {},
   "outputs": [
    {
     "data": {
      "text/html": [
       "<div>\n",
       "<style scoped>\n",
       "    .dataframe tbody tr th:only-of-type {\n",
       "        vertical-align: middle;\n",
       "    }\n",
       "\n",
       "    .dataframe tbody tr th {\n",
       "        vertical-align: top;\n",
       "    }\n",
       "\n",
       "    .dataframe thead th {\n",
       "        text-align: right;\n",
       "    }\n",
       "</style>\n",
       "<table border=\"1\" class=\"dataframe\">\n",
       "  <thead>\n",
       "    <tr style=\"text-align: right;\">\n",
       "      <th></th>\n",
       "      <th>0</th>\n",
       "      <th>1</th>\n",
       "      <th>2</th>\n",
       "      <th>3</th>\n",
       "      <th>4</th>\n",
       "      <th>5</th>\n",
       "      <th>6</th>\n",
       "    </tr>\n",
       "  </thead>\n",
       "  <tbody>\n",
       "    <tr>\n",
       "      <th>A</th>\n",
       "      <td>0.62</td>\n",
       "      <td>-0.5</td>\n",
       "      <td>0.007187</td>\n",
       "      <td>8.1</td>\n",
       "      <td>0.046</td>\n",
       "      <td>1.181</td>\n",
       "      <td>27.5</td>\n",
       "    </tr>\n",
       "    <tr>\n",
       "      <th>C</th>\n",
       "      <td>0.29</td>\n",
       "      <td>-1.0</td>\n",
       "      <td>-0.036610</td>\n",
       "      <td>5.5</td>\n",
       "      <td>0.128</td>\n",
       "      <td>1.461</td>\n",
       "      <td>44.6</td>\n",
       "    </tr>\n",
       "    <tr>\n",
       "      <th>D</th>\n",
       "      <td>-0.90</td>\n",
       "      <td>3.0</td>\n",
       "      <td>-0.023820</td>\n",
       "      <td>13.0</td>\n",
       "      <td>0.105</td>\n",
       "      <td>1.587</td>\n",
       "      <td>40.0</td>\n",
       "    </tr>\n",
       "    <tr>\n",
       "      <th>E</th>\n",
       "      <td>-0.74</td>\n",
       "      <td>3.0</td>\n",
       "      <td>0.006802</td>\n",
       "      <td>12.3</td>\n",
       "      <td>0.151</td>\n",
       "      <td>1.862</td>\n",
       "      <td>62.0</td>\n",
       "    </tr>\n",
       "    <tr>\n",
       "      <th>F</th>\n",
       "      <td>1.19</td>\n",
       "      <td>-2.5</td>\n",
       "      <td>0.037552</td>\n",
       "      <td>5.2</td>\n",
       "      <td>0.290</td>\n",
       "      <td>2.228</td>\n",
       "      <td>115.5</td>\n",
       "    </tr>\n",
       "  </tbody>\n",
       "</table>\n",
       "</div>"
      ],
      "text/plain": [
       "      0    1         2     3      4      5      6\n",
       "A  0.62 -0.5  0.007187   8.1  0.046  1.181   27.5\n",
       "C  0.29 -1.0 -0.036610   5.5  0.128  1.461   44.6\n",
       "D -0.90  3.0 -0.023820  13.0  0.105  1.587   40.0\n",
       "E -0.74  3.0  0.006802  12.3  0.151  1.862   62.0\n",
       "F  1.19 -2.5  0.037552   5.2  0.290  2.228  115.5"
      ]
     },
     "execution_count": 49,
     "metadata": {},
     "output_type": "execute_result"
    }
   ],
   "source": [
    "aa_props.head()"
   ]
  },
  {
   "cell_type": "code",
   "execution_count": 50,
   "metadata": {},
   "outputs": [],
   "source": [
    "lag = 30"
   ]
  },
  {
   "cell_type": "code",
   "execution_count": 51,
   "metadata": {},
   "outputs": [
    {
     "data": {
      "text/html": [
       "<div>\n",
       "<style scoped>\n",
       "    .dataframe tbody tr th:only-of-type {\n",
       "        vertical-align: middle;\n",
       "    }\n",
       "\n",
       "    .dataframe tbody tr th {\n",
       "        vertical-align: top;\n",
       "    }\n",
       "\n",
       "    .dataframe thead th {\n",
       "        text-align: right;\n",
       "    }\n",
       "</style>\n",
       "<table border=\"1\" class=\"dataframe\">\n",
       "  <thead>\n",
       "    <tr style=\"text-align: right;\">\n",
       "      <th></th>\n",
       "      <th>hydrophobicity</th>\n",
       "      <th>hydrophilicity</th>\n",
       "      <th>net_charge_index</th>\n",
       "      <th>polarity</th>\n",
       "      <th>polarizability</th>\n",
       "      <th>solvent_accessible_surface_area</th>\n",
       "      <th>volume</th>\n",
       "    </tr>\n",
       "  </thead>\n",
       "  <tbody>\n",
       "    <tr>\n",
       "      <th>A</th>\n",
       "      <td>0.62</td>\n",
       "      <td>-0.5</td>\n",
       "      <td>0.007187</td>\n",
       "      <td>8.1</td>\n",
       "      <td>0.046</td>\n",
       "      <td>1.181</td>\n",
       "      <td>27.5</td>\n",
       "    </tr>\n",
       "    <tr>\n",
       "      <th>C</th>\n",
       "      <td>0.29</td>\n",
       "      <td>-1.0</td>\n",
       "      <td>-0.036610</td>\n",
       "      <td>5.5</td>\n",
       "      <td>0.128</td>\n",
       "      <td>1.461</td>\n",
       "      <td>44.6</td>\n",
       "    </tr>\n",
       "    <tr>\n",
       "      <th>D</th>\n",
       "      <td>-0.90</td>\n",
       "      <td>3.0</td>\n",
       "      <td>-0.023820</td>\n",
       "      <td>13.0</td>\n",
       "      <td>0.105</td>\n",
       "      <td>1.587</td>\n",
       "      <td>40.0</td>\n",
       "    </tr>\n",
       "    <tr>\n",
       "      <th>E</th>\n",
       "      <td>-0.74</td>\n",
       "      <td>3.0</td>\n",
       "      <td>0.006802</td>\n",
       "      <td>12.3</td>\n",
       "      <td>0.151</td>\n",
       "      <td>1.862</td>\n",
       "      <td>62.0</td>\n",
       "    </tr>\n",
       "    <tr>\n",
       "      <th>F</th>\n",
       "      <td>1.19</td>\n",
       "      <td>-2.5</td>\n",
       "      <td>0.037552</td>\n",
       "      <td>5.2</td>\n",
       "      <td>0.290</td>\n",
       "      <td>2.228</td>\n",
       "      <td>115.5</td>\n",
       "    </tr>\n",
       "  </tbody>\n",
       "</table>\n",
       "</div>"
      ],
      "text/plain": [
       "   hydrophobicity  hydrophilicity  net_charge_index  polarity  polarizability  \\\n",
       "A            0.62            -0.5          0.007187       8.1           0.046   \n",
       "C            0.29            -1.0         -0.036610       5.5           0.128   \n",
       "D           -0.90             3.0         -0.023820      13.0           0.105   \n",
       "E           -0.74             3.0          0.006802      12.3           0.151   \n",
       "F            1.19            -2.5          0.037552       5.2           0.290   \n",
       "\n",
       "   solvent_accessible_surface_area  volume  \n",
       "A                            1.181    27.5  \n",
       "C                            1.461    44.6  \n",
       "D                            1.587    40.0  \n",
       "E                            1.862    62.0  \n",
       "F                            2.228   115.5  "
      ]
     },
     "execution_count": 51,
     "metadata": {},
     "output_type": "execute_result"
    }
   ],
   "source": [
    "columns = [\"hydrophobicity\", \"hydrophilicity\", \"net_charge_index\", \"polarity\", \"polarizability\", \"solvent_accessible_surface_area\", \"volume\"]\n",
    "aa_props.columns = columns\n",
    "aa_props.head()"
   ]
  },
  {
   "cell_type": "markdown",
   "metadata": {},
   "source": [
    "### Part Two: Prepare Autocovariance Functions\n",
    "\n",
    "We will make three functions.\n",
    "\n",
    "1.) seq_to_props will be called privately and transforms the amino acid sequences of amino acid properties.\n",
    "\n",
    "2.) generate_timeseries will be called privately and performs the autocovariances on the transformed sequences.\n",
    "\n",
    "3.) apply_autocovariance will be called publicly and adds autocovariances to the dataframe it is passed."
   ]
  },
  {
   "cell_type": "code",
   "execution_count": 52,
   "metadata": {},
   "outputs": [],
   "source": [
    "def seq_to_props(seq, prop):\n",
    "    prop_arr = []\n",
    "    for i in seq:\n",
    "        prop_arr.append(aa_props.loc[i,prop])\n",
    "    return prop_arr"
   ]
  },
  {
   "cell_type": "code",
   "execution_count": 53,
   "metadata": {},
   "outputs": [],
   "source": [
    "def generate_timeseries(row):\n",
    "    feature_vector = []\n",
    "    for seq in [\"seq1\",\"seq2\"]:\n",
    "        seq_vector = []\n",
    "        for prop in columns:\n",
    "            autocovariances = acovf(seq_to_props(row[seq],prop),nlag=lag)\n",
    "            seq_vector.append(autocovariances)\n",
    "        feature_vector.append(seq_vector)\n",
    "    return feature_vector            "
   ]
  },
  {
   "cell_type": "code",
   "execution_count": 54,
   "metadata": {},
   "outputs": [
    {
     "name": "stderr",
     "output_type": "stream",
     "text": [
      "/Users/nlonberg/anaconda3/envs/dsi/lib/python3.7/site-packages/statsmodels/tsa/stattools.py:436: FutureWarning: fft=True will become the default after the release of the 0.12 release of statsmodels. To suppress this warning, explicitly set fft=False.\n",
      "  warnings.warn(msg, FutureWarning)\n"
     ]
    }
   ],
   "source": [
    "def apply_autocovariance(df):\n",
    "    df[\"autocovariances\"] = df.apply(generate_timeseries,axis=1)\n",
    "    return df"
   ]
  }
 ],
 "metadata": {
  "kernelspec": {
   "display_name": "Python 3",
   "language": "python",
   "name": "python3"
  },
  "language_info": {
   "codemirror_mode": {
    "name": "ipython",
    "version": 3
   },
   "file_extension": ".py",
   "mimetype": "text/x-python",
   "name": "python",
   "nbconvert_exporter": "python",
   "pygments_lexer": "ipython3",
   "version": "3.7.7"
  }
 },
 "nbformat": 4,
 "nbformat_minor": 4
}
