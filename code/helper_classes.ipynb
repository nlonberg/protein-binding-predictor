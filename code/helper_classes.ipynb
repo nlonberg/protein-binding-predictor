{
 "cells": [
  {
   "cell_type": "code",
   "execution_count": 2,
   "metadata": {},
   "outputs": [],
   "source": [
    "#Import Libraries\n",
    "import pandas as pd\n",
    "import numpy as np\n",
    "from sklearn.model_selection import train_test_split, cross_val_score, GridSearchCV"
   ]
  },
  {
   "cell_type": "code",
   "execution_count": 3,
   "metadata": {},
   "outputs": [],
   "source": [
    "# Class adapted by Nikhil Lonberg from Patrick Wales-Dinan's demonstration on saving GridSearches\n",
    "class GridSearchContainer:\n",
    "    def __init__(self):\n",
    "        '''\n",
    "        GridSearchContainer Constructor\n",
    "            Arguments:\n",
    "                X = feature matrix\n",
    "                y = target series\n",
    "        ''' \n",
    "        self.model_params = {}\n",
    "        self.best_models = []\n",
    "        self.model_df = pd.DataFrame\n",
    "        self.count = 0\n",
    "        \n",
    "    def set_data(self, X_train, X_test, y_train, y_test):\n",
    "        self.X_train, self.X_test, self.y_train, self.y_test = X_train, X_test, y_train, y_test\n",
    "        \n",
    "    def search(self, estimator, params, cv=5, mod_name='model', evaluator='accuracy'):\n",
    "            '''\n",
    "            GridSearchContainer Search Method\n",
    "                Arguments:\n",
    "                    estimator = model\n",
    "                    params = target series\n",
    "                    mod_name = model name for display\n",
    "                    evaluator = 'accuracy' or 'precison' or 'recall'\n",
    "            '''\n",
    "            gs = GridSearchCV(estimator,\n",
    "                  param_grid = params,\n",
    "                  cv = cv,\n",
    "                  scoring = evaluator)\n",
    "    \n",
    "            gs.fit(self.X_train, self.y_train)\n",
    "\n",
    "            print(f\"Train {evaluator}: {gs.score(self.X_train, self.y_train)}\")\n",
    "            print(f\"Test {evaluator}: {gs.score(self.X_test, self.y_test)}\")\n",
    "\n",
    "            gs.best_params_[evaluator] = gs.best_score_\n",
    "                \n",
    "            self.model_params[f'{mod_name}_{self.count}'] = gs.best_params_\n",
    "\n",
    "            self.model_df = pd.DataFrame.from_dict(self.model_params, orient='index')\n",
    "            self.model_df.sort_values(by=evaluator, ascending=False, inplace=True)\n",
    "\n",
    "            self.best_models.append((gs.best_estimator_, gs.best_score_))\n",
    "            \n",
    "            self.count+=1\n",
    "            \n",
    "    def save_grid(self, path):\n",
    "            \n",
    "            self.model_df.to_csv(path)"
   ]
  }
 ],
 "metadata": {
  "kernelspec": {
   "display_name": "Python 3",
   "language": "python",
   "name": "python3"
  },
  "language_info": {
   "codemirror_mode": {
    "name": "ipython",
    "version": 3
   },
   "file_extension": ".py",
   "mimetype": "text/x-python",
   "name": "python",
   "nbconvert_exporter": "python",
   "pygments_lexer": "ipython3",
   "version": "3.7.7"
  }
 },
 "nbformat": 4,
 "nbformat_minor": 4
}
