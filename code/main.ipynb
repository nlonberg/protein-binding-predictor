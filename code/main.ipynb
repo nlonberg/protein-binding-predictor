{
 "cells": [
  {
   "cell_type": "code",
   "execution_count": 83,
   "metadata": {},
   "outputs": [],
   "source": [
    "%run models.ipynb\n",
    "%run evaluators.ipynb\n",
    "%run encoders.ipynb\n",
    "from sklearn.pipeline import Pipeline\n",
    "from tensorflow.keras.wrappers.scikit_learn import KerasClassifier"
   ]
  },
  {
   "cell_type": "markdown",
   "metadata": {},
   "source": [
    "### Creating Training Set"
   ]
  },
  {
   "cell_type": "code",
   "execution_count": 84,
   "metadata": {},
   "outputs": [],
   "source": [
    "DATA_PATH = \"../data/\"\n",
    "df = pd.read_csv(DATA_PATH + \"human_train.csv\")"
   ]
  },
  {
   "cell_type": "code",
   "execution_count": 85,
   "metadata": {},
   "outputs": [],
   "source": [
    "features = [\"seq1\",\"seq2\"]\n",
    "target = \"interacts\""
   ]
  },
  {
   "cell_type": "code",
   "execution_count": 86,
   "metadata": {},
   "outputs": [],
   "source": [
    "X = df[features]\n",
    "y = df[target]"
   ]
  },
  {
   "cell_type": "markdown",
   "metadata": {},
   "source": [
    "### Setting Parameters"
   ]
  },
  {
   "cell_type": "code",
   "execution_count": 87,
   "metadata": {},
   "outputs": [],
   "source": [
    "max_len = 500"
   ]
  },
  {
   "cell_type": "code",
   "execution_count": 88,
   "metadata": {},
   "outputs": [],
   "source": [
    "rsv_shape = (2,max_len*20)\n",
    "cjt_shape = (343,2)\n",
    "acv_shape = (max_len,14)"
   ]
  },
  {
   "cell_type": "code",
   "execution_count": 96,
   "metadata": {},
   "outputs": [],
   "source": [
    "cjt_params = {\n",
    "    'cnn__epochs': [50,60],\n",
    "    'cnn__batch_size': [512],\n",
    "    'cnn__hidden_nodes': [100,200],\n",
    "    'cnn__hidden_layers': [1],\n",
    "    'cnn__conv_layers': [2],\n",
    "    'cnn__dropout' : [0.0],\n",
    "    'cnn__input_shape' : [cjt_shape]\n",
    "}"
   ]
  },
  {
   "cell_type": "code",
   "execution_count": 97,
   "metadata": {},
   "outputs": [],
   "source": [
    "acv_params = {\n",
    "    'cnn__epochs': [20],\n",
    "    'cnn__batch_size': [512],\n",
    "    'cnn__hidden_nodes': [100],\n",
    "    'cnn__hidden_layers': [2],\n",
    "    'cnn__conv_layers': [1],\n",
    "    'cnn__dropout' : [0.0],\n",
    "    'cnn__input_shape' : [acv_shape]\n",
    "}"
   ]
  },
  {
   "cell_type": "code",
   "execution_count": 98,
   "metadata": {},
   "outputs": [],
   "source": [
    "rsv_params = {\n",
    "    'cnn__epochs': [50,60],\n",
    "    'cnn__batch_size': [512],\n",
    "    'cnn__hidden_nodes': [100,200],\n",
    "    'cnn__hidden_layers': [1],\n",
    "    'cnn__conv_layers': [2],\n",
    "    'cnn__dropout' : [0.0],\n",
    "    'cnn__kernel_size': [1],\n",
    "    'cnn__input_shape' : [rsv_shape]\n",
    "}"
   ]
  },
  {
   "cell_type": "markdown",
   "metadata": {},
   "source": [
    "### Building Pipelines"
   ]
  },
  {
   "cell_type": "code",
   "execution_count": 99,
   "metadata": {},
   "outputs": [],
   "source": [
    "cjt_pipe = Pipeline([('cjt', ConjointTriadEncoder()),\n",
    "                     ('cnn', KerasClassifier(cnn,verbose=0))\n",
    "                    ])"
   ]
  },
  {
   "cell_type": "code",
   "execution_count": 100,
   "metadata": {},
   "outputs": [],
   "source": [
    "acv_pipe = Pipeline([('acv', AutocovarianceEncoder()),\n",
    "                     ('cnn', KerasClassifier(cnn,verbose=0))\n",
    "                    ])"
   ]
  },
  {
   "cell_type": "code",
   "execution_count": 101,
   "metadata": {},
   "outputs": [],
   "source": [
    "rsv_pipe = Pipeline([('rsv', Res2VecEncoder()),\n",
    "                     ('cnn', KerasClassifier(cnn,verbose=0))\n",
    "                    ])"
   ]
  },
  {
   "cell_type": "markdown",
   "metadata": {},
   "source": [
    "### Gridsearching"
   ]
  },
  {
   "cell_type": "code",
   "execution_count": 80,
   "metadata": {},
   "outputs": [],
   "source": [
    "gsc = GridSearchContainer(DATA_PATH + \"grid_searches.csv\")\n",
    "gsc.set_data(X,y)"
   ]
  },
  {
   "cell_type": "markdown",
   "metadata": {},
   "source": [
    "#### Conjoint Triad Method:"
   ]
  },
  {
   "cell_type": "code",
   "execution_count": null,
   "metadata": {},
   "outputs": [],
   "source": [
    "gsc.search(cjt_pipe,cjt_params,mod_name=\"cjt\")\n",
    "gsc.save_grid()\n",
    "gsc.model_df.head()"
   ]
  },
  {
   "cell_type": "markdown",
   "metadata": {},
   "source": [
    "#### Autocovariance Method:"
   ]
  },
  {
   "cell_type": "code",
   "execution_count": null,
   "metadata": {},
   "outputs": [],
   "source": [
    "gsc.search(acv_pipe,acv_params,mod_name=\"acv\")\n",
    "gsc.save_grid()\n",
    "gsc.model_df.head()"
   ]
  },
  {
   "cell_type": "markdown",
   "metadata": {},
   "source": [
    "#### Res2Vec Method:"
   ]
  },
  {
   "cell_type": "code",
   "execution_count": null,
   "metadata": {},
   "outputs": [],
   "source": [
    "gsc.search(rsv_pipe,rsv_params,mod_name=\"rsv\")\n",
    "gsc.save_grid()\n",
    "gsc.model_df.head()"
   ]
  }
 ],
 "metadata": {
  "kernelspec": {
   "display_name": "Python 3",
   "language": "python",
   "name": "python3"
  },
  "language_info": {
   "codemirror_mode": {
    "name": "ipython",
    "version": 3
   },
   "file_extension": ".py",
   "mimetype": "text/x-python",
   "name": "python",
   "nbconvert_exporter": "python",
   "pygments_lexer": "ipython3",
   "version": "3.7.7"
  }
 },
 "nbformat": 4,
 "nbformat_minor": 4
}
