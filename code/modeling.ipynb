{
 "cells": [
  {
   "cell_type": "code",
   "execution_count": 1,
   "metadata": {},
   "outputs": [],
   "source": [
    "from sklearn.datasets import make_regression\n",
    "from sklearn.preprocessing import StandardScaler\n",
    "from sklearn.model_selection import train_test_split, GridSearchCV\n",
    "from sklearn import metrics\n",
    "\n",
    "from tensorflow.keras.models import Sequential\n",
    "from tensorflow.keras.layers import Dense, Dropout\n",
    "from tensorflow.keras.wrappers.scikit_learn import KerasClassifier"
   ]
  },
  {
   "cell_type": "code",
   "execution_count": 4,
   "metadata": {},
   "outputs": [],
   "source": [
    "# This function is adapted from code written by Riley Dallas and Adi Bronshtein \n",
    "def feedforward(input_shape, hidden_nodes=32, hidden_layers=2, dropout=0.0):\n",
    "    \n",
    "    model = Sequential()\n",
    "    model.add(Flatten(input_shape=input_shape))\n",
    "    \n",
    "    for layer in range(hidden_layers):\n",
    "        if layer == 0:\n",
    "            model.add(Dense(hidden_neurons, activation='relu'))\n",
    "            model.add(Dropout(dropout))\n",
    "            \n",
    "    model.add(Dense(1,activation=\"sigmoid\"))\n",
    "    model.compile(loss='binary_crossentropy', optimizer='adam')\n",
    "    \n",
    "    return model"
   ]
  },
  {
   "cell_type": "code",
   "execution_count": null,
   "metadata": {},
   "outputs": [],
   "source": [
    "def convolutional(input_shape, hidden_nodes=32, hidden_layers=2,\n",
    "                  conv_layers=2, pooling_layers=2, dropout=0.0):\n",
    "\n",
    "    # Instantiate a CNN.\n",
    "    cnn_model = Sequential()\n",
    "    \n",
    "    \n",
    "    conv_count = 0\n",
    "    hidden_count = 0\n",
    "    pool_count = 0\n",
    "    \n",
    "    cnn_model.add(Conv2D(\n",
    "                        filters= 16, # number of filters\n",
    "                        kernel_size=(3,3), # height/width of filter\n",
    "                        activation = 'relu', # activation function \n",
    "                        input_shape= (28, 28, 1)  # shape of input (image) \n",
    "    ))                                                                                            mn \n",
    "    \n",
    "    cnn_model.add(MaxPooling2D\n",
    "                 (pool_size=(2,2)))\n",
    "    \n",
    "    conv_done = conv_count <= conv_layers\n",
    "    hidden_done = hidden_count <= hidden_layers\n",
    "    pool_done = pool_count <= pooling_layers\n",
    "    \n",
    "    while conv_done and hidden_done and pool_done:\n",
    "\n",
    "     # dimensions of region of pooling\n",
    "\n",
    "    cnn_model.add(Conv2D(filters = 16,\n",
    "                         kernel_size= (3,3),\n",
    "                         activation= 'relu'))\n",
    "\n",
    "    cnn_model.add(MaxPooling2D(pool_size=(2,2)))\n",
    "    cnn_model.add(Flatten())\n",
    "    \n",
    "    cnn_model.add(Dense(1,activation=\"sigmoid\"))\n",
    "    cnn_model.compile(loss='binary_crossentropy', optimizer='adam')"
   ]
  },
  {
   "cell_type": "code",
   "execution_count": null,
   "metadata": {},
   "outputs": [],
   "source": [
    "# Keras scikit-learn wrapper\n",
    "ff_model = KerasClassifier(build_fn=feed_forward, batch_size=512, verbose=0)\n",
    "\n",
    "# Parameters grid\n",
    "params = {\n",
    "    'epochs': [1000],\n",
    "    'layer_one_neurons': [32],\n",
    "    'layer_two_neurons': [32]\n",
    "}\n",
    "# Grid search \n",
    "gs = GridSearchCV(nn, param_grid=params, cv=3) # Use lower folds for CV to make it shorter\n",
    "gs.fit(X_train_sc, y_train)\n",
    "print(gs.best_score_)\n",
    "gs.best_params_"
   ]
  }
 ],
 "metadata": {
  "kernelspec": {
   "display_name": "Python 3",
   "language": "python",
   "name": "python3"
  },
  "language_info": {
   "codemirror_mode": {
    "name": "ipython",
    "version": 3
   },
   "file_extension": ".py",
   "mimetype": "text/x-python",
   "name": "python",
   "nbconvert_exporter": "python",
   "pygments_lexer": "ipython3",
   "version": "3.7.7"
  }
 },
 "nbformat": 4,
 "nbformat_minor": 4
}
