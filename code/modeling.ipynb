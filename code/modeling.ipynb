{
 "cells": [
  {
   "cell_type": "code",
   "execution_count": 54,
   "metadata": {},
   "outputs": [],
   "source": [
    "%run helper_classes.ipynb"
   ]
  },
  {
   "cell_type": "code",
   "execution_count": 14,
   "metadata": {},
   "outputs": [],
   "source": [
    "from sklearn.datasets import make_regression\n",
    "from sklearn.preprocessing import StandardScaler\n",
    "from sklearn.model_selection import train_test_split, GridSearchCV\n",
    "from sklearn import metrics\n",
    "\n",
    "from tensorflow.keras.models import Sequential\n",
    "from tensorflow.keras.layers import Dense, Dropout, Flatten, Conv1D, MaxPooling1D\n",
    "from tensorflow.keras.wrappers.scikit_learn import KerasClassifier"
   ]
  },
  {
   "cell_type": "markdown",
   "metadata": {},
   "source": [
    "## Modeling\n",
    "\n",
    "This notebook contains the tools to help grid search neural networks.  It contains four parameters sets: feed forward and convolutional for both autocovariance and conjoint triad method."
   ]
  },
  {
   "cell_type": "code",
   "execution_count": 15,
   "metadata": {},
   "outputs": [],
   "source": [
    "# This function is adapted from code written by Riley Dallas and Adi Bronshtein \n",
    "def feedforward(input_shape, hidden_nodes=32, hidden_layers=2, dropout=0.0):\n",
    "    \n",
    "    model = Sequential()\n",
    "    model.add(Flatten(input_shape=input_shape))\n",
    "    \n",
    "    for layer in range(hidden_layers):\n",
    "        if layer == 0:\n",
    "            model.add(Dense(hidden_nodes, activation='relu'))\n",
    "            model.add(Dropout(dropout))\n",
    "            \n",
    "    model.add(Dense(1,activation=\"sigmoid\"))\n",
    "    model.compile(loss='binary_crossentropy', optimizer='adam')\n",
    "    \n",
    "    return model"
   ]
  },
  {
   "cell_type": "code",
   "execution_count": 16,
   "metadata": {},
   "outputs": [],
   "source": [
    "def convolutional(input_shape, hidden_nodes=32, hidden_layers=2,\n",
    "                  conv_layers=2, filters=16, kernel_size=3, dropout=0.0):\n",
    "\n",
    "    # Instantiate a CNN.\n",
    "    cnn_model = Sequential()\n",
    "    \n",
    "    \n",
    "    cnn_model.add(Conv1D(\n",
    "                        filters= filters,\n",
    "                        kernel_size=kernel_size,\n",
    "                        activation = 'relu',\n",
    "                        input_shape= input_shape))\n",
    "    \n",
    "    for conv in range(conv_layers-1):\n",
    "    \n",
    "        cnn_model.add(Conv1D(\n",
    "                            filters= filters,\n",
    "                            kernel_size=kernel_size,\n",
    "                            activation = 'relu')) \n",
    "        \n",
    "        cnn_model.add(MaxPooling1D(pool_size=2))\n",
    "    \n",
    "    cnn_model.add(Flatten())\n",
    "    \n",
    "    for hidden in range(hidden_layers):\n",
    "    \n",
    "        cnn_model.add(Dense(hidden_nodes, activation=\"relu\"))\n",
    "        \n",
    "        cnn_model.add(Dropout(dropout))\n",
    "        \n",
    "    cnn_model.add(Dense(1,activation=\"sigmoid\"))\n",
    "    \n",
    "    cnn_model.compile(loss='binary_crossentropy', optimizer='adam')\n",
    "    \n",
    "    return cnn_model"
   ]
  },
  {
   "cell_type": "code",
   "execution_count": 56,
   "metadata": {},
   "outputs": [],
   "source": [
    "autocovariance_input_shape = (217,2)\n",
    "conjoint_triad_input_shape = (343,2)"
   ]
  },
  {
   "cell_type": "code",
   "execution_count": 53,
   "metadata": {},
   "outputs": [],
   "source": [
    "cjt_ff_model = KerasClassifier(build_fn=feedforward, batch_size=512, verbose=0)\n",
    "cjt_cnn_model = KerasClassifier(build_fn=convolutional, batch_size=512, verbose=0)\n",
    "autocov_ff_model = KerasClassifier(build_fn=feedforward, batch_size=512, verbose=0)\n",
    "autocov_cnn_model = KerasClassifier(build_fn=convolutional, batch_size=512, verbose=0)"
   ]
  },
  {
   "cell_type": "code",
   "execution_count": 53,
   "metadata": {},
   "outputs": [],
   "source": [
    "# Parameters grid\n",
    "cjt_ff_params = {\n",
    "    'epochs': [10,20],\n",
    "    'batch_size': [512],\n",
    "    'hidden_nodes': [30,100],\n",
    "    'hidden_layers': [1,2],\n",
    "    'dropout' : [0.0,0.5],\n",
    "    'input_shape' : [conjoint_triad_input_shape]\n",
    "}\n",
    "\n",
    "cjt_cnn_params = {\n",
    "    'epochs': [10,20],\n",
    "    'batch_size': [512],\n",
    "    'hidden_nodes': [30,100],\n",
    "    'hidden_layers': [1,2],\n",
    "    'conv_layers': [1,2],\n",
    "    'dropout' : [0.0,0.5],\n",
    "    'input_shape' : [conjoint_triad_input_shape]\n",
    "}"
   ]
  },
  {
   "cell_type": "code",
   "execution_count": 57,
   "metadata": {},
   "outputs": [],
   "source": [
    "# Autocov parameter grids\n",
    "autocov_ff_params = {\n",
    "    'epochs': [10,20],\n",
    "    'batch_size': [512],\n",
    "    'hidden_nodes': [30,100],\n",
    "    'hidden_layers': [1,2],\n",
    "    'dropout' : [0.0,0.5],\n",
    "    'input_shape' : [autocovariance_input_shape]\n",
    "}\n",
    "\n",
    "autocov_cnn_params = {\n",
    "    'epochs': [10,20],\n",
    "    'batch_size': [512],\n",
    "    'hidden_nodes': [30,100],\n",
    "    'hidden_layers': [1,2],\n",
    "    'conv_layers': [1,2],\n",
    "    'dropout' : [0.0,0.5],\n",
    "    'input_shape' : [autocovariance_input_shape]\n",
    "}"
   ]
  }
 ],
 "metadata": {
  "kernelspec": {
   "display_name": "Python 3",
   "language": "python",
   "name": "python3"
  },
  "language_info": {
   "codemirror_mode": {
    "name": "ipython",
    "version": 3
   },
   "file_extension": ".py",
   "mimetype": "text/x-python",
   "name": "python",
   "nbconvert_exporter": "python",
   "pygments_lexer": "ipython3",
   "version": "3.7.7"
  }
 },
 "nbformat": 4,
 "nbformat_minor": 4
}
