{
 "cells": [
  {
   "cell_type": "code",
   "execution_count": 149,
   "metadata": {},
   "outputs": [],
   "source": [
    "%run conjoint_triad_method.ipynb\n",
    "%run modeling.ipynb\n",
    "%run autocovariance.ipynb"
   ]
  },
  {
   "cell_type": "code",
   "execution_count": 91,
   "metadata": {},
   "outputs": [],
   "source": [
    "import numpy as np\n",
    "import pandas as pd\n",
    "import matplotlib.pyplot as plt\n",
    "import seaborn as sns\n",
    "from sklearn.preprocessing import StandardScaler\n",
    "from sklearn.model_selection import cross_val_score, GridSearchCV, train_test_split\n",
    "from sklearn.feature_extraction.text import TfidfTransformer, TfidfVectorizer\n",
    "from sklearn.metrics import confusion_matrix, plot_confusion_matrix\n",
    "\n",
    "from tensorflow.keras.models import Sequential, load_model\n",
    "from tensorflow.keras.layers import Dense, Flatten, Conv1D, MaxPooling1D\n",
    "\n",
    "%matplotlib inline"
   ]
  },
  {
   "cell_type": "code",
   "execution_count": 162,
   "metadata": {},
   "outputs": [],
   "source": [
    "# Constants used to reshape inputs for neural network\n",
    "autocovariance_input_shape = (217,2)\n",
    "conjoint_triad_input_shape = (343,2)"
   ]
  },
  {
   "cell_type": "markdown",
   "metadata": {},
   "source": [
    "## Modeling Protein-Protein Interactions\n",
    "\n",
    "This will be our main notebook for calling helper preprocessing functions, calling helper modeling functions, and evaluating our model. It is organized into three parts: conjoint triad modeling, autocovariance modeling, and model selection/evaluation."
   ]
  },
  {
   "cell_type": "markdown",
   "metadata": {},
   "source": [
    "### Part One: Modeling with the Conjoint Triad Method\n",
    "Please refer to conjoint_triad_method.ipynb for details on the conjoint triad method for encoding amino acid sequences."
   ]
  },
  {
   "cell_type": "code",
   "execution_count": 30,
   "metadata": {},
   "outputs": [],
   "source": [
    "# Load in cleaned data\n",
    "df = pd.read_csv(\"../data/train_cleaned.csv\")"
   ]
  },
  {
   "cell_type": "code",
   "execution_count": 31,
   "metadata": {},
   "outputs": [],
   "source": [
    "# preprocess sequences with conjoint triad method\n",
    "df = conjoint_triad_preprocess(df)"
   ]
  },
  {
   "cell_type": "code",
   "execution_count": 161,
   "metadata": {},
   "outputs": [],
   "source": [
    "# function to reshape feature vector for neural network input\n",
    "# Side Note: the fact that this function took the longest\n",
    "#            to write out of any other function in the\n",
    "#            project speaks to the difficulties of prepping\n",
    "#            features for deep learning.\n",
    "\n",
    "def prepare_train_test_split(features, target, shape):\n",
    "    X = df[features]\n",
    "    y = df[target]\n",
    "\n",
    "    X_train, X_test, y_train, y_test = train_test_split(X,y,random_state=42)\n",
    "    \n",
    "    X_train = np.stack(X_train)\n",
    "    X_test = np.stack(X_test)\n",
    "\n",
    "    y_train = np.asarray(y_train)\n",
    "    y_test = np.asarray(y_test)\n",
    "    \n",
    "    X_train = X_train.reshape(X_train.shape[0], shape[0], shape[1])\n",
    "    X_test = X_test.reshape(X_test.shape[0], shape[0], shape[1])\n",
    "    \n",
    "    return X_train, X_test, y_train, y_test"
   ]
  },
  {
   "cell_type": "code",
   "execution_count": 60,
   "metadata": {},
   "outputs": [],
   "source": [
    "# Create X_train, X_test, y_train, and y_test for conjoint triad method\n",
    "features = \"seq_vec\"\n",
    "target = \"interacts\"\n",
    "\n",
    "X_train_cjt, X_test_cjt, y_train_cjt_cjt, y_test = prepare_train_test_split(features, target, conjoint_triad_input_shape)"
   ]
  },
  {
   "cell_type": "code",
   "execution_count": 76,
   "metadata": {},
   "outputs": [],
   "source": [
    "# Please refer to helper_classes for this object used to keep\n",
    "# track of grid searches\n",
    "gs = GridSearchContainer()"
   ]
  },
  {
   "cell_type": "code",
   "execution_count": 77,
   "metadata": {},
   "outputs": [],
   "source": [
    "# Set the data for the grid search container\n",
    "gs.set_data(X_train_cjt, X_test_cjt, y_train_cjt, y_test_cjt)"
   ]
  },
  {
   "cell_type": "code",
   "execution_count": 150,
   "metadata": {},
   "outputs": [
    {
     "name": "stdout",
     "output_type": "stream",
     "text": [
      "Train accuracy: 0.7844932915973329\n",
      "Test accuracy: 0.7381135237031348\n"
     ]
    }
   ],
   "source": [
    "# Search Convolutional Neural Network params for best model\n",
    "# See modeling.ipynb for the list of searched params\n",
    "# and details about how the gridsearch is constructed\n",
    "gs.search(cjt_cnn_model, cjt_cnn_params, mod_name=\"cnn_conjoint_triad\")"
   ]
  },
  {
   "cell_type": "code",
   "execution_count": 147,
   "metadata": {},
   "outputs": [
    {
     "name": "stdout",
     "output_type": "stream",
     "text": [
      "Train accuracy: 0.871743253778931\n",
      "Test accuracy: 0.7659009983941911\n"
     ]
    }
   ],
   "source": [
    "# Search Feed Forward Neural networks for best performance\n",
    "gs.search(cjt_ff_model, cjt_ff_params, mod_name=\"ff_conjoint_triad\")"
   ]
  },
  {
   "cell_type": "markdown",
   "metadata": {},
   "source": [
    "### Part Two: Modeling with Autocovariance\n",
    "Please refer to autocovariance.ipynb for details on how autocovariance is applied to amino acid sequence data."
   ]
  },
  {
   "cell_type": "code",
   "execution_count": 151,
   "metadata": {},
   "outputs": [
    {
     "name": "stderr",
     "output_type": "stream",
     "text": [
      "/Users/nlonberg/anaconda3/envs/dsi/lib/python3.7/site-packages/statsmodels/tsa/stattools.py:436: FutureWarning: fft=True will become the default after the release of the 0.12 release of statsmodels. To suppress this warning, explicitly set fft=False.\n",
      "  warnings.warn(msg, FutureWarning)\n"
     ]
    }
   ],
   "source": [
    "# Load in cleaned dataset\n",
    "df = pd.read_csv(\"../data/train_cleaned.csv\")\n",
    "# Apply autocovariance preprocessing\n",
    "df = apply_autocovariance(df)"
   ]
  },
  {
   "cell_type": "code",
   "execution_count": 156,
   "metadata": {},
   "outputs": [],
   "source": [
    "# create data objects\n",
    "features = \"autocovariances\"\n",
    "target = \"interacts\"\n",
    "\n",
    "X_train_ac, X_test_ac, y_train_ac, y_test_ac = prepare_train_test_split(features,\n",
    "                                                                        target,\n",
    "                                                                        autocovariance_input_shape)"
   ]
  },
  {
   "cell_type": "code",
   "execution_count": 157,
   "metadata": {},
   "outputs": [],
   "source": [
    "# Reset gridsearch container data\n",
    "gs.set_data(X_train_ac, X_test_ac, y_train_ac, y_test_ac)"
   ]
  },
  {
   "cell_type": "code",
   "execution_count": 158,
   "metadata": {},
   "outputs": [
    {
     "name": "stdout",
     "output_type": "stream",
     "text": [
      "Train accuracy: 0.5774229959156126\n",
      "Test accuracy: 0.5594498359282273\n",
      "Train accuracy: 0.6242363591933626\n",
      "Test accuracy: 0.6027717656915451\n"
     ]
    }
   ],
   "source": [
    "# Search over cnn and feedforward params for best models\n",
    "gs.search(autocov_cnn_model, autocov_cnn_params, mod_name=\"cnn_autocovariance\")\n",
    "gs.search(autocov_ff_model, autocov_ff_params, mod_name=\"ff_autocovariance\")"
   ]
  },
  {
   "cell_type": "markdown",
   "metadata": {},
   "source": [
    "### Part Three: Model Selection and Evaluation\n",
    "Based on our grid searches, we will choose the model with the best accuracy and evaluate it."
   ]
  },
  {
   "cell_type": "code",
   "execution_count": 159,
   "metadata": {},
   "outputs": [
    {
     "data": {
      "text/html": [
       "<div>\n",
       "<style scoped>\n",
       "    .dataframe tbody tr th:only-of-type {\n",
       "        vertical-align: middle;\n",
       "    }\n",
       "\n",
       "    .dataframe tbody tr th {\n",
       "        vertical-align: top;\n",
       "    }\n",
       "\n",
       "    .dataframe thead th {\n",
       "        text-align: right;\n",
       "    }\n",
       "</style>\n",
       "<table border=\"1\" class=\"dataframe\">\n",
       "  <thead>\n",
       "    <tr style=\"text-align: right;\">\n",
       "      <th></th>\n",
       "      <th>batch_size</th>\n",
       "      <th>conv_layers</th>\n",
       "      <th>dropout</th>\n",
       "      <th>epochs</th>\n",
       "      <th>hidden_layers</th>\n",
       "      <th>hidden_nodes</th>\n",
       "      <th>input_shape</th>\n",
       "      <th>accuracy</th>\n",
       "    </tr>\n",
       "  </thead>\n",
       "  <tbody>\n",
       "    <tr>\n",
       "      <th>cnn_conjoint_triad_0</th>\n",
       "      <td>512</td>\n",
       "      <td>1.0</td>\n",
       "      <td>0.0</td>\n",
       "      <td>20</td>\n",
       "      <td>1</td>\n",
       "      <td>100</td>\n",
       "      <td>(343, 2)</td>\n",
       "      <td>0.764898</td>\n",
       "    </tr>\n",
       "    <tr>\n",
       "      <th>ff_conjoint_triad_1</th>\n",
       "      <td>512</td>\n",
       "      <td>NaN</td>\n",
       "      <td>0.0</td>\n",
       "      <td>20</td>\n",
       "      <td>1</td>\n",
       "      <td>100</td>\n",
       "      <td>(343, 2)</td>\n",
       "      <td>0.742940</td>\n",
       "    </tr>\n",
       "    <tr>\n",
       "      <th>cnn_conjoint_triad_2</th>\n",
       "      <td>512</td>\n",
       "      <td>1.0</td>\n",
       "      <td>0.0</td>\n",
       "      <td>20</td>\n",
       "      <td>1</td>\n",
       "      <td>100</td>\n",
       "      <td>(343, 2)</td>\n",
       "      <td>0.741554</td>\n",
       "    </tr>\n",
       "    <tr>\n",
       "      <th>cnn_autocovariance_3</th>\n",
       "      <td>512</td>\n",
       "      <td>1.0</td>\n",
       "      <td>0.0</td>\n",
       "      <td>10</td>\n",
       "      <td>1</td>\n",
       "      <td>100</td>\n",
       "      <td>(217, 2)</td>\n",
       "      <td>0.632871</td>\n",
       "    </tr>\n",
       "    <tr>\n",
       "      <th>ff_autocovariance_4</th>\n",
       "      <td>512</td>\n",
       "      <td>NaN</td>\n",
       "      <td>0.0</td>\n",
       "      <td>10</td>\n",
       "      <td>1</td>\n",
       "      <td>100</td>\n",
       "      <td>(217, 2)</td>\n",
       "      <td>0.585464</td>\n",
       "    </tr>\n",
       "  </tbody>\n",
       "</table>\n",
       "</div>"
      ],
      "text/plain": [
       "                      batch_size  conv_layers  dropout  epochs  hidden_layers  \\\n",
       "cnn_conjoint_triad_0         512          1.0      0.0      20              1   \n",
       "ff_conjoint_triad_1          512          NaN      0.0      20              1   \n",
       "cnn_conjoint_triad_2         512          1.0      0.0      20              1   \n",
       "cnn_autocovariance_3         512          1.0      0.0      10              1   \n",
       "ff_autocovariance_4          512          NaN      0.0      10              1   \n",
       "\n",
       "                      hidden_nodes input_shape  accuracy  \n",
       "cnn_conjoint_triad_0           100    (343, 2)  0.764898  \n",
       "ff_conjoint_triad_1            100    (343, 2)  0.742940  \n",
       "cnn_conjoint_triad_2           100    (343, 2)  0.741554  \n",
       "cnn_autocovariance_3           100    (217, 2)  0.632871  \n",
       "ff_autocovariance_4            100    (217, 2)  0.585464  "
      ]
     },
     "execution_count": 159,
     "metadata": {},
     "output_type": "execute_result"
    }
   ],
   "source": [
    "# Review gridsearches.\n",
    "gs.model_df.head()"
   ]
  },
  {
   "cell_type": "markdown",
   "metadata": {},
   "source": [
    "It looks like our first entry, \"cnn_conjoint_triad_0\" had the best accuracy. Let's evaluate it."
   ]
  },
  {
   "cell_type": "code",
   "execution_count": 160,
   "metadata": {},
   "outputs": [
    {
     "data": {
      "text/plain": [
       "[(<tensorflow.python.keras.wrappers.scikit_learn.KerasClassifier at 0x7fa7403d14d0>,\n",
       "  0.7648976706135995),\n",
       " (<tensorflow.python.keras.wrappers.scikit_learn.KerasClassifier at 0x7fa740ed2890>,\n",
       "  0.7429396476131984),\n",
       " (<tensorflow.python.keras.wrappers.scikit_learn.KerasClassifier at 0x7fa9b9a9e7d0>,\n",
       "  0.741554377703927),\n",
       " (<tensorflow.python.keras.wrappers.scikit_learn.KerasClassifier at 0x7fa8606e7910>,\n",
       "  0.6328706728688095),\n",
       " (<tensorflow.python.keras.wrappers.scikit_learn.KerasClassifier at 0x7fa948a4b550>,\n",
       "  0.5854635566422435)]"
      ]
     },
     "execution_count": 160,
     "metadata": {},
     "output_type": "execute_result"
    }
   ],
   "source": [
    "# This member variable has a list of tuples describing each model (model, accuracy)\n",
    "gs.best_models"
   ]
  },
  {
   "cell_type": "code",
   "execution_count": 84,
   "metadata": {},
   "outputs": [],
   "source": [
    "# Get the best model\n",
    "cnn_best = gs.best_models[0][0]"
   ]
  },
  {
   "cell_type": "code",
   "execution_count": 89,
   "metadata": {},
   "outputs": [],
   "source": [
    "# Get predicitions on the testing set\n",
    "y_pred = cnn_best.predict(X_test_cjt)"
   ]
  },
  {
   "cell_type": "code",
   "execution_count": 121,
   "metadata": {},
   "outputs": [
    {
     "name": "stdout",
     "output_type": "stream",
     "text": [
      "-----------------False------------------\n",
      "(0,0) True Negative - 7855\n",
      "(0,1) False Positive - 4297\n",
      "------------------True------------------\n",
      "(1,0) False Negative - 3166\n",
      "(1,1) True Positive - 13328\n",
      "\n",
      "Accuracy: 73.9475% - (1) Correct Predictions / ALL predictions\n",
      "---------------------------------------------------------------------------------------\n",
      "Specificity: 64.6396% - (0) Correctly Predicted NO INTERACTIONS / ALL NO INTERACTIONS protein pairs\n",
      "---------------------------------------------------------------------------------------\n",
      "Sensitivity: 80.8051% - (1) Correctly Predicted INTERACTIONS / ALL INTERACTIONS protein pairs\n",
      "---------------------------------------------------------------------------------------\n",
      "Precision: 75.6199% - (1) Correctly Predicted INTERACTIONS / Predicted INTERACTIONS protein pairs\n",
      "---------------------------------------------------------------------------------------\n"
     ]
    },
    {
     "data": {
      "image/png": "[encoded data removed]",
      "text/plain": [
       "<Figure size 720x504 with 2 Axes>"
      ]
     },
     "metadata": {},
     "output_type": "display_data"
    }
   ],
   "source": [
    "# This code is adapted from code written by Tony Lucci\n",
    "\n",
    "tn, fp, fn, tp = confusion_matrix(y_test_cjt, y_pred).ravel()\n",
    "\n",
    "# Plot\n",
    "array = [[tp, fp],\n",
    "         [fn, tn]\n",
    "        ]\n",
    "\n",
    "df_cm = pd.DataFrame(array, [True, False], [True, False])\n",
    "plt.figure(figsize=(10,7))\n",
    "ax = plt.axes()\n",
    "sns.set(font_scale=1.4)\n",
    "heatmap = sns.heatmap(df_cm, annot=True, annot_kws={\"size\": 16}, cmap=\"Blues\", fmt=\"g\")\n",
    "ax.set_title(\"Confusion Matrix of Protein-Protein Interactions\",pad=20)\n",
    "ax.set_xlabel(\"Actual\")\n",
    "ax.set_ylabel(\"Predicted\")\n",
    "fig = heatmap.get_figure()\n",
    "fig.savefig(\"../heatmap.png\")\n",
    "\n",
    "\n",
    "# For easy consumption\n",
    "print('False'.center(40, \"-\"))\n",
    "print(f'(0,0) True Negative - {tn}')\n",
    "print(f'(0,1) False Positive - {fp}')\n",
    "print('True'.center(40, \"-\"))\n",
    "print(f'(1,0) False Negative - {fn}')\n",
    "print(f'(1,1) True Positive - {tp}')\n",
    "print()\n",
    "\n",
    "# Model Prediction\n",
    "accu = (tn + tp) / (tn + tp + fn + fp)\n",
    "print(f'Accuracy: {round(accu * 100, 4)}% - (1) Correct Predictions / ALL predictions')\n",
    "print('---------------------------------------------------------------------------------------')\n",
    "\n",
    "# Calculate the specificity\n",
    "spec = tn / (tn + fp)\n",
    "print(f'Specificity: {round(spec * 100, 4)}% - (0) Correctly Predicted NO INTERACTIONS / ALL NO INTERACTIONS protein pairs')\n",
    "print('---------------------------------------------------------------------------------------')\n",
    "\n",
    "# Sensitivity\n",
    "sens = tp / (tp + fn)\n",
    "print(F'Sensitivity: {round(sens * 100, 4)}% - (1) Correctly Predicted INTERACTIONS / ALL INTERACTIONS protein pairs')\n",
    "print('---------------------------------------------------------------------------------------')\n",
    "\n",
    "# Precision\n",
    "prec = tp / (tp + fp)\n",
    "print(f'Precision: {round(prec * 100, 4)}% - (1) Correctly Predicted INTERACTIONS / Predicted INTERACTIONS protein pairs')\n",
    "print('---------------------------------------------------------------------------------------')"
   ]
  },
  {
   "cell_type": "code",
   "execution_count": 167,
   "metadata": {},
   "outputs": [
    {
     "data": {
      "text/plain": [
       "1    0.57368\n",
       "0    0.42632\n",
       "Name: interacts, dtype: float64"
      ]
     },
     "execution_count": 167,
     "metadata": {},
     "output_type": "execute_result"
    }
   ],
   "source": [
    "# Get Baseline Accuracy\n",
    "df[\"interacts\"].value_counts(normalize=True)"
   ]
  },
  {
   "cell_type": "markdown",
   "metadata": {},
   "source": [
    "#### Model Selection\n",
    "\n",
    "Our baseline accuracy is 57% and our final model's accuracy is 76% (5-fold cross validation): an improvement of 19%. We selected the CNN model on conjoint triad preprocessed features over other models because it had the best cross validation score and because it had good variance.  With our train/test split, the model scored 78% on training set and 73% on the testing set. The feed forward model for cjt scored 87% on the training set and 76% testing set, but had 74% accuracy on the grid search cross validation. This level of variance is undesirable, which is why we went with the CNN model, despite its lower scores.  The autocovariance models had much lower accuracy scores, ranging in the 60s."
   ]
  },
  {
   "cell_type": "markdown",
   "metadata": {},
   "source": [
    "#### Model Evaluation\n",
    "\n",
    "There is no specific stated intent as far as minimizing false positives or false negatives.  Binary classification is a flawed interpretation of the problem of protein-protein interactions anyway.  Proteins have attraction to each other on a continuous scale.  Many proteins interact with each other but don't bind or perform a meaningful function.  Those proteins are chemically attracted but still categorized as \"not interacting\".  The model has 81% sensitivity but 65% specificity.  This means the model overpredicts interaction.  To be fair to the model, it may be detecting the ingredients for chemical attraction but the protein pair don't formally bind or interact in a known way.  An extension of this project might look at building a regressor to predict the association constant between two proteins."
   ]
  }
 ],
 "metadata": {
  "kernelspec": {
   "display_name": "Python 3",
   "language": "python",
   "name": "python3"
  },
  "language_info": {
   "codemirror_mode": {
    "name": "ipython",
    "version": 3
   },
   "file_extension": ".py",
   "mimetype": "text/x-python",
   "name": "python",
   "nbconvert_exporter": "python",
   "pygments_lexer": "ipython3",
   "version": "3.7.7"
  }
 },
 "nbformat": 4,
 "nbformat_minor": 4
}
