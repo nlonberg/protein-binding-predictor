{
 "cells": [
  {
   "cell_type": "code",
   "execution_count": 3,
   "metadata": {},
   "outputs": [],
   "source": [
    "import numpy as np\n",
    "import pandas as pd\n",
    "from tensorflow.keras.models import Sequential\n",
    "from tensorflow.keras.layers import Dense, Dropout, Flatten, Conv1D, MaxPooling1D, LSTM"
   ]
  },
  {
   "cell_type": "code",
   "execution_count": 4,
   "metadata": {},
   "outputs": [],
   "source": [
    "def cnn(input_shape= (343,2), hidden_nodes=64, hidden_layers=2,\n",
    "        conv_layers=2, filters=16, kernel_size=3, dropout=0.0):\n",
    "\n",
    "    # Instantiate a CNN.\n",
    "    cnn_model = Sequential()\n",
    "    \n",
    "    \n",
    "    cnn_model.add(Conv1D(\n",
    "                        filters= filters,\n",
    "                        kernel_size=kernel_size,\n",
    "                        activation = 'relu',\n",
    "                        input_shape= input_shape))\n",
    "    \n",
    "    for conv in range(conv_layers-1):\n",
    "    \n",
    "        cnn_model.add(Conv1D(\n",
    "                            filters= filters,\n",
    "                            kernel_size=kernel_size,\n",
    "                            activation = 'relu')) \n",
    "        \n",
    "        cnn_model.add(MaxPooling1D(pool_size=2, padding='same'))\n",
    "    \n",
    "    cnn_model.add(Flatten())\n",
    "    \n",
    "    for hidden in range(hidden_layers):\n",
    "    \n",
    "        cnn_model.add(Dense(hidden_nodes, activation=\"relu\"))\n",
    "        \n",
    "        cnn_model.add(Dropout(dropout))\n",
    "        \n",
    "    cnn_model.add(Dense(1,activation=\"sigmoid\"))\n",
    "    \n",
    "    cnn_model.compile(loss='binary_crossentropy', optimizer='adam')\n",
    "    \n",
    "    return cnn_model"
   ]
  },
  {
   "cell_type": "code",
   "execution_count": null,
   "metadata": {},
   "outputs": [],
   "source": [
    "def lstm():\n",
    "    pass"
   ]
  }
 ],
 "metadata": {
  "kernelspec": {
   "display_name": "Python 3",
   "language": "python",
   "name": "python3"
  },
  "language_info": {
   "codemirror_mode": {
    "name": "ipython",
    "version": 3
   },
   "file_extension": ".py",
   "mimetype": "text/x-python",
   "name": "python",
   "nbconvert_exporter": "python",
   "pygments_lexer": "ipython3",
   "version": "3.7.7"
  }
 },
 "nbformat": 4,
 "nbformat_minor": 4
}
