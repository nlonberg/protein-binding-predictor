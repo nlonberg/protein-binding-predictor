{
 "cells": [
  {
   "cell_type": "markdown",
   "metadata": {},
   "source": [
    "# Capstone Check-In Two"
   ]
  },
  {
   "cell_type": "markdown",
   "metadata": {},
   "source": [
    "## Proposal\n",
    "My capstone project is the creation of a protein-binding predictive model using primary structure.  Originally, I hoped to create a regressor that predicts the protein binding affinity for an inputted pair of proteins.  But, I have simplified the scope to a binary classification: interacts or doesn't interact.  Such a predictive model could be used to determine if newly sequenced viral proteins, like those on the surface of novel coronavirus, bind to human membrane receptors.  Identifying protein-protein interactions without laboratory processes is an important application of machine learning."
   ]
  },
  {
   "cell_type": "markdown",
   "metadata": {},
   "source": [
    "## Problem Statement\n",
    "SARS-COV-2 has infected at least 30 million people worldwide.  The global efforts to find a vaccine, treat COVID-19, and understand the virus can only be described as the largest scientific project every undertaken.  One branch of this project is mapping interactions between SARS-COV-2 surface proteins to human membrane receptors.  The goal of this project is to train a binary classifier to identify whether two inputted proteins interact or not.  The model will be applied to recently sequenced SARS-COV-2 surface proteins to determine their likely human targets."
   ]
  },
  {
   "cell_type": "markdown",
   "metadata": {},
   "source": [
    "## Methods and Models\n",
    "The model will be trained on the primary structures (amino acid sequences) of thousands of protein profiles scraped from the UniProt protein database.  We are not interested in inferences (e.g. \"presence of cysteines in both molecules increases the chance of interaction\"), we are interested in accuracy.  Considering the complexity of protein data, we should move immediately to deep learning to extract as much predicting strength from the amino acid strings as possible.  I anticipate tuning a Convolutional Neural Network"
   ]
  },
  {
   "cell_type": "markdown",
   "metadata": {},
   "source": [
    "## Risks and Assumptions\n",
    "Predicting chemical forces between macromolecules is a vastly complex task that often involves computationally exhausting 3D modeling.  Limiting our model training to a 1D amino acid string avoids this problem, but also lowers our expectations for the model's performance.  However, we are still expecting the model to be able to intuit enough chemical understanding from just amino acids to predict binding.  This is a huge assumption the relies on the strength of deep learning and the size of our training data.  A potential risk of the project is that the model entirely fails to discern meaningful information from primary structure and secondary structure data (presence of alpha helices, beta sheets, etc.) must be added to the training set."
   ]
  },
  {
   "cell_type": "markdown",
   "metadata": {},
   "source": [
    "## Data Source\n",
    "The commented code below includes saved functions that query the RCSB Protein DataBase. I originally scraped from this site, but ended up switching to UniProt. I've kept the code below, just in case I want to gather corroborating data later on.\n",
    "\n",
    "I customized advanced queries from UniProt to only select human proteins with at least one interactor.  I choose to include protein mass, length, sequence, and interactors as my columns.\n",
    "\n",
    "https://www.uniprot.org/"
   ]
  },
  {
   "cell_type": "markdown",
   "metadata": {},
   "source": [
    "## Preliminary EDA\n",
    "The prelimary eda for check-in 2 will consists of preparation of the training dataset.  This involves organization of the proteins into a unique set of pairs of proteins that interact and pairs of proteins that do not interact."
   ]
  },
  {
   "cell_type": "code",
   "execution_count": 1,
   "metadata": {},
   "outputs": [],
   "source": [
    "import pandas as pd\n",
    "import numpy as np\n",
    "import seaborn as sns\n",
    "import matplotlib.pyplot as plt\n",
    "import requests"
   ]
  },
  {
   "cell_type": "markdown",
   "metadata": {},
   "source": [
    "The commented code below includes saved functions that query the RCSB Protein DataBase. I originally scraped from this site, but ended up switching to UniProt. I've kept the code below, just in case I want to gather corroborating data later on."
   ]
  },
  {
   "cell_type": "code",
   "execution_count": 2,
   "metadata": {},
   "outputs": [],
   "source": [
    "# # This function is adapted from Carlos Oliver\n",
    "# # https://www.rcsb.org/pages/webservices/python3_search_nmr\n",
    "\n",
    "# def experimental_query(method):\n",
    "#     url = 'http://www.rcsb.org/pdb/rest/search'\n",
    "\n",
    "#     query_text = \"\"\"\n",
    "# <?xml version=\"1.0\" encoding=\"UTF-8\"?>\n",
    "\n",
    "# <orgPdbQuery>\n",
    "\n",
    "# <version>B0907</version>\n",
    "\n",
    "# <queryType>org.pdb.query.simple.ExpTypeQuery</queryType>\n",
    "\n",
    "# <description>Experimental Method Search: Experimental Method=\"\"\"+method+\"\"\"</description>\n",
    "\n",
    "# <mvStructure.expMethod.value>\"\"\"+method+\"\"\"</mvStructure.expMethod.value>\n",
    "\n",
    "# </orgPdbQuery>\n",
    "\n",
    "# \"\"\"\n",
    "#     query_helper(query_text)\n",
    "\n",
    "# def query_helper(query_text):    \n",
    "\n",
    "#     print(\"Query: %s\" % query_text)\n",
    "#     print(\"Querying RCSB PDB REST API...\")\n",
    "\n",
    "#     header = {'Content-Type': 'application/x-www-form-urlencoded'}\n",
    "\n",
    "#     response = requests.post(url, data=query_text, headers=header)\n",
    "\n",
    "#     if response.status_code == 200:\n",
    "#         print(\"Found %d PDB entries matching query.\" % len(response.text))\n",
    "#         print(\"Matches: \\n%s\" % response.text)\n",
    "#     else:\n",
    "#         print(\"Failed to retrieve results\")"
   ]
  },
  {
   "cell_type": "code",
   "execution_count": 3,
   "metadata": {},
   "outputs": [],
   "source": [
    "# solid_state = \"SOLID-STATE NMR\"\n",
    "# experimental_query(solid_state)"
   ]
  },
  {
   "cell_type": "code",
   "execution_count": 4,
   "metadata": {},
   "outputs": [],
   "source": [
    "train = pd.read_excel(\"./train_set.xlsx\")\n",
    "test = pd.read_excel(\"./test_set.xlsx\")"
   ]
  },
  {
   "cell_type": "code",
   "execution_count": 5,
   "metadata": {},
   "outputs": [
    {
     "name": "stdout",
     "output_type": "stream",
     "text": [
      "<class 'pandas.core.frame.DataFrame'>\n",
      "RangeIndex: 11935 entries, 0 to 11934\n",
      "Data columns (total 7 columns):\n",
      " #   Column          Non-Null Count  Dtype \n",
      "---  ------          --------------  ----- \n",
      " 0   Entry           11935 non-null  object\n",
      " 1   Entry name      11935 non-null  object\n",
      " 2   Protein names   11935 non-null  object\n",
      " 3   Interacts with  11935 non-null  object\n",
      " 4   Sequence        11935 non-null  object\n",
      " 5   Mass            11935 non-null  object\n",
      " 6   Length          11935 non-null  int64 \n",
      "dtypes: int64(1), object(6)\n",
      "memory usage: 652.8+ KB\n"
     ]
    }
   ],
   "source": [
    "train.info()"
   ]
  },
  {
   "cell_type": "code",
   "execution_count": 6,
   "metadata": {},
   "outputs": [
    {
     "data": {
      "text/html": [
       "<div>\n",
       "<style scoped>\n",
       "    .dataframe tbody tr th:only-of-type {\n",
       "        vertical-align: middle;\n",
       "    }\n",
       "\n",
       "    .dataframe tbody tr th {\n",
       "        vertical-align: top;\n",
       "    }\n",
       "\n",
       "    .dataframe thead th {\n",
       "        text-align: right;\n",
       "    }\n",
       "</style>\n",
       "<table border=\"1\" class=\"dataframe\">\n",
       "  <thead>\n",
       "    <tr style=\"text-align: right;\">\n",
       "      <th></th>\n",
       "      <th>Entry</th>\n",
       "      <th>Entry name</th>\n",
       "      <th>Protein names</th>\n",
       "      <th>Interacts with</th>\n",
       "      <th>Sequence</th>\n",
       "      <th>Mass</th>\n",
       "      <th>Length</th>\n",
       "    </tr>\n",
       "  </thead>\n",
       "  <tbody>\n",
       "    <tr>\n",
       "      <th>0</th>\n",
       "      <td>Q13023</td>\n",
       "      <td>AKAP6_HUMAN</td>\n",
       "      <td>A-kinase anchor protein 6 (AKAP-6) (A-kinase a...</td>\n",
       "      <td>Q96CV9</td>\n",
       "      <td>MLTMSVTLSPLRSQDLDPMATDASPMAINMTPTVEQGEGEEAMKDM...</td>\n",
       "      <td>256,720</td>\n",
       "      <td>2319</td>\n",
       "    </tr>\n",
       "    <tr>\n",
       "      <th>1</th>\n",
       "      <td>Q8WTP8</td>\n",
       "      <td>AEN_HUMAN</td>\n",
       "      <td>Apoptosis-enhancing nuclease (EC 3.1.-.-) (Int...</td>\n",
       "      <td>C9JG97; P50402; Q96B26; Q3T906; Q8IX15-3; Q134...</td>\n",
       "      <td>MVPREAPESAQCLCPSLTIPNAKDVLRKRHKRRSRQHQRFMARKAL...</td>\n",
       "      <td>36,350</td>\n",
       "      <td>325</td>\n",
       "    </tr>\n",
       "    <tr>\n",
       "      <th>2</th>\n",
       "      <td>Q9NP61</td>\n",
       "      <td>ARFG3_HUMAN</td>\n",
       "      <td>ADP-ribosylation factor GTPase-activating prot...</td>\n",
       "      <td>Q9H400; Q8WWV3; Q16563; Q8IUH5</td>\n",
       "      <td>MGDPSKQDILTIFKRLRSVPTNKVCFDCGAKNPSWASITYGVFLCI...</td>\n",
       "      <td>56,928</td>\n",
       "      <td>516</td>\n",
       "    </tr>\n",
       "    <tr>\n",
       "      <th>3</th>\n",
       "      <td>P36404</td>\n",
       "      <td>ARL2_HUMAN</td>\n",
       "      <td>ADP-ribosylation factor-like protein 2</td>\n",
       "      <td>Q9Y2Y0; Q969G2; O43924; Q9BZK7; Q13432</td>\n",
       "      <td>MGLLTILKKMKQKERELRLLMLGLDNAGKTTILKKFNGEDIDTISP...</td>\n",
       "      <td>20,878</td>\n",
       "      <td>184</td>\n",
       "    </tr>\n",
       "    <tr>\n",
       "      <th>4</th>\n",
       "      <td>Q9NQ90</td>\n",
       "      <td>ANO2_HUMAN</td>\n",
       "      <td>Anoctamin-2 (Transmembrane protein 16B)</td>\n",
       "      <td>Q12959</td>\n",
       "      <td>MATPGPRDIPLLPGSPRRLSPQAGSRGGQGPKHGQQCLKMPGPRAP...</td>\n",
       "      <td>113,969</td>\n",
       "      <td>1003</td>\n",
       "    </tr>\n",
       "  </tbody>\n",
       "</table>\n",
       "</div>"
      ],
      "text/plain": [
       "    Entry   Entry name                                      Protein names  \\\n",
       "0  Q13023  AKAP6_HUMAN  A-kinase anchor protein 6 (AKAP-6) (A-kinase a...   \n",
       "1  Q8WTP8    AEN_HUMAN  Apoptosis-enhancing nuclease (EC 3.1.-.-) (Int...   \n",
       "2  Q9NP61  ARFG3_HUMAN  ADP-ribosylation factor GTPase-activating prot...   \n",
       "3  P36404   ARL2_HUMAN             ADP-ribosylation factor-like protein 2   \n",
       "4  Q9NQ90   ANO2_HUMAN            Anoctamin-2 (Transmembrane protein 16B)   \n",
       "\n",
       "                                      Interacts with  \\\n",
       "0                                             Q96CV9   \n",
       "1  C9JG97; P50402; Q96B26; Q3T906; Q8IX15-3; Q134...   \n",
       "2                     Q9H400; Q8WWV3; Q16563; Q8IUH5   \n",
       "3             Q9Y2Y0; Q969G2; O43924; Q9BZK7; Q13432   \n",
       "4                                             Q12959   \n",
       "\n",
       "                                            Sequence     Mass  Length  \n",
       "0  MLTMSVTLSPLRSQDLDPMATDASPMAINMTPTVEQGEGEEAMKDM...  256,720    2319  \n",
       "1  MVPREAPESAQCLCPSLTIPNAKDVLRKRHKRRSRQHQRFMARKAL...   36,350     325  \n",
       "2  MGDPSKQDILTIFKRLRSVPTNKVCFDCGAKNPSWASITYGVFLCI...   56,928     516  \n",
       "3  MGLLTILKKMKQKERELRLLMLGLDNAGKTTILKKFNGEDIDTISP...   20,878     184  \n",
       "4  MATPGPRDIPLLPGSPRRLSPQAGSRGGQGPKHGQQCLKMPGPRAP...  113,969    1003  "
      ]
     },
     "execution_count": 6,
     "metadata": {},
     "output_type": "execute_result"
    }
   ],
   "source": [
    "train.head()"
   ]
  },
  {
   "cell_type": "code",
   "execution_count": 7,
   "metadata": {},
   "outputs": [
    {
     "data": {
      "text/plain": [
       "(11935, 7)"
      ]
     },
     "execution_count": 7,
     "metadata": {},
     "output_type": "execute_result"
    }
   ],
   "source": [
    "# Let's look at the training dataset\n",
    "train.shape"
   ]
  },
  {
   "cell_type": "markdown",
   "metadata": {},
   "source": [
    "There are 11935 proteins in our training dataset."
   ]
  },
  {
   "cell_type": "code",
   "execution_count": 8,
   "metadata": {},
   "outputs": [
    {
     "data": {
      "text/html": [
       "<div>\n",
       "<style scoped>\n",
       "    .dataframe tbody tr th:only-of-type {\n",
       "        vertical-align: middle;\n",
       "    }\n",
       "\n",
       "    .dataframe tbody tr th {\n",
       "        vertical-align: top;\n",
       "    }\n",
       "\n",
       "    .dataframe thead th {\n",
       "        text-align: right;\n",
       "    }\n",
       "</style>\n",
       "<table border=\"1\" class=\"dataframe\">\n",
       "  <thead>\n",
       "    <tr style=\"text-align: right;\">\n",
       "      <th></th>\n",
       "      <th>Entry name</th>\n",
       "      <th>Protein names</th>\n",
       "      <th>Interacts with</th>\n",
       "      <th>Sequence</th>\n",
       "      <th>Mass</th>\n",
       "      <th>Length</th>\n",
       "    </tr>\n",
       "    <tr>\n",
       "      <th>Entry</th>\n",
       "      <th></th>\n",
       "      <th></th>\n",
       "      <th></th>\n",
       "      <th></th>\n",
       "      <th></th>\n",
       "      <th></th>\n",
       "    </tr>\n",
       "  </thead>\n",
       "  <tbody>\n",
       "    <tr>\n",
       "      <th>Q13023</th>\n",
       "      <td>AKAP6_HUMAN</td>\n",
       "      <td>A-kinase anchor protein 6 (AKAP-6) (A-kinase a...</td>\n",
       "      <td>Q96CV9</td>\n",
       "      <td>MLTMSVTLSPLRSQDLDPMATDASPMAINMTPTVEQGEGEEAMKDM...</td>\n",
       "      <td>256,720</td>\n",
       "      <td>2319</td>\n",
       "    </tr>\n",
       "    <tr>\n",
       "      <th>Q8WTP8</th>\n",
       "      <td>AEN_HUMAN</td>\n",
       "      <td>Apoptosis-enhancing nuclease (EC 3.1.-.-) (Int...</td>\n",
       "      <td>C9JG97; P50402; Q96B26; Q3T906; Q8IX15-3; Q134...</td>\n",
       "      <td>MVPREAPESAQCLCPSLTIPNAKDVLRKRHKRRSRQHQRFMARKAL...</td>\n",
       "      <td>36,350</td>\n",
       "      <td>325</td>\n",
       "    </tr>\n",
       "    <tr>\n",
       "      <th>Q9NP61</th>\n",
       "      <td>ARFG3_HUMAN</td>\n",
       "      <td>ADP-ribosylation factor GTPase-activating prot...</td>\n",
       "      <td>Q9H400; Q8WWV3; Q16563; Q8IUH5</td>\n",
       "      <td>MGDPSKQDILTIFKRLRSVPTNKVCFDCGAKNPSWASITYGVFLCI...</td>\n",
       "      <td>56,928</td>\n",
       "      <td>516</td>\n",
       "    </tr>\n",
       "    <tr>\n",
       "      <th>P36404</th>\n",
       "      <td>ARL2_HUMAN</td>\n",
       "      <td>ADP-ribosylation factor-like protein 2</td>\n",
       "      <td>Q9Y2Y0; Q969G2; O43924; Q9BZK7; Q13432</td>\n",
       "      <td>MGLLTILKKMKQKERELRLLMLGLDNAGKTTILKKFNGEDIDTISP...</td>\n",
       "      <td>20,878</td>\n",
       "      <td>184</td>\n",
       "    </tr>\n",
       "    <tr>\n",
       "      <th>Q9NQ90</th>\n",
       "      <td>ANO2_HUMAN</td>\n",
       "      <td>Anoctamin-2 (Transmembrane protein 16B)</td>\n",
       "      <td>Q12959</td>\n",
       "      <td>MATPGPRDIPLLPGSPRRLSPQAGSRGGQGPKHGQQCLKMPGPRAP...</td>\n",
       "      <td>113,969</td>\n",
       "      <td>1003</td>\n",
       "    </tr>\n",
       "  </tbody>\n",
       "</table>\n",
       "</div>"
      ],
      "text/plain": [
       "         Entry name                                      Protein names  \\\n",
       "Entry                                                                    \n",
       "Q13023  AKAP6_HUMAN  A-kinase anchor protein 6 (AKAP-6) (A-kinase a...   \n",
       "Q8WTP8    AEN_HUMAN  Apoptosis-enhancing nuclease (EC 3.1.-.-) (Int...   \n",
       "Q9NP61  ARFG3_HUMAN  ADP-ribosylation factor GTPase-activating prot...   \n",
       "P36404   ARL2_HUMAN             ADP-ribosylation factor-like protein 2   \n",
       "Q9NQ90   ANO2_HUMAN            Anoctamin-2 (Transmembrane protein 16B)   \n",
       "\n",
       "                                           Interacts with  \\\n",
       "Entry                                                       \n",
       "Q13023                                             Q96CV9   \n",
       "Q8WTP8  C9JG97; P50402; Q96B26; Q3T906; Q8IX15-3; Q134...   \n",
       "Q9NP61                     Q9H400; Q8WWV3; Q16563; Q8IUH5   \n",
       "P36404             Q9Y2Y0; Q969G2; O43924; Q9BZK7; Q13432   \n",
       "Q9NQ90                                             Q12959   \n",
       "\n",
       "                                                 Sequence     Mass  Length  \n",
       "Entry                                                                       \n",
       "Q13023  MLTMSVTLSPLRSQDLDPMATDASPMAINMTPTVEQGEGEEAMKDM...  256,720    2319  \n",
       "Q8WTP8  MVPREAPESAQCLCPSLTIPNAKDVLRKRHKRRSRQHQRFMARKAL...   36,350     325  \n",
       "Q9NP61  MGDPSKQDILTIFKRLRSVPTNKVCFDCGAKNPSWASITYGVFLCI...   56,928     516  \n",
       "P36404  MGLLTILKKMKQKERELRLLMLGLDNAGKTTILKKFNGEDIDTISP...   20,878     184  \n",
       "Q9NQ90  MATPGPRDIPLLPGSPRRLSPQAGSRGGQGPKHGQQCLKMPGPRAP...  113,969    1003  "
      ]
     },
     "execution_count": 8,
     "metadata": {},
     "output_type": "execute_result"
    }
   ],
   "source": [
    "train.set_index(\"Entry\", inplace=True)\n",
    "train.head()"
   ]
  },
  {
   "cell_type": "code",
   "execution_count": 9,
   "metadata": {},
   "outputs": [],
   "source": [
    "train[\"Interacts with\"] = train[\"Interacts with\"].apply(lambda a: [b.strip() for b in a.split(\";\")])"
   ]
  },
  {
   "cell_type": "code",
   "execution_count": 10,
   "metadata": {},
   "outputs": [
    {
     "data": {
      "text/html": [
       "<div>\n",
       "<style scoped>\n",
       "    .dataframe tbody tr th:only-of-type {\n",
       "        vertical-align: middle;\n",
       "    }\n",
       "\n",
       "    .dataframe tbody tr th {\n",
       "        vertical-align: top;\n",
       "    }\n",
       "\n",
       "    .dataframe thead th {\n",
       "        text-align: right;\n",
       "    }\n",
       "</style>\n",
       "<table border=\"1\" class=\"dataframe\">\n",
       "  <thead>\n",
       "    <tr style=\"text-align: right;\">\n",
       "      <th></th>\n",
       "      <th>Entry name</th>\n",
       "      <th>Protein names</th>\n",
       "      <th>Interacts with</th>\n",
       "      <th>Sequence</th>\n",
       "      <th>Mass</th>\n",
       "      <th>Length</th>\n",
       "    </tr>\n",
       "    <tr>\n",
       "      <th>Entry</th>\n",
       "      <th></th>\n",
       "      <th></th>\n",
       "      <th></th>\n",
       "      <th></th>\n",
       "      <th></th>\n",
       "      <th></th>\n",
       "    </tr>\n",
       "  </thead>\n",
       "  <tbody>\n",
       "    <tr>\n",
       "      <th>Q13023</th>\n",
       "      <td>AKAP6_HUMAN</td>\n",
       "      <td>A-kinase anchor protein 6 (AKAP-6) (A-kinase a...</td>\n",
       "      <td>[Q96CV9]</td>\n",
       "      <td>MLTMSVTLSPLRSQDLDPMATDASPMAINMTPTVEQGEGEEAMKDM...</td>\n",
       "      <td>256,720</td>\n",
       "      <td>2319</td>\n",
       "    </tr>\n",
       "    <tr>\n",
       "      <th>Q8WTP8</th>\n",
       "      <td>AEN_HUMAN</td>\n",
       "      <td>Apoptosis-enhancing nuclease (EC 3.1.-.-) (Int...</td>\n",
       "      <td>[C9JG97, P50402, Q96B26, Q3T906, Q8IX15-3, Q13...</td>\n",
       "      <td>MVPREAPESAQCLCPSLTIPNAKDVLRKRHKRRSRQHQRFMARKAL...</td>\n",
       "      <td>36,350</td>\n",
       "      <td>325</td>\n",
       "    </tr>\n",
       "    <tr>\n",
       "      <th>Q9NP61</th>\n",
       "      <td>ARFG3_HUMAN</td>\n",
       "      <td>ADP-ribosylation factor GTPase-activating prot...</td>\n",
       "      <td>[Q9H400, Q8WWV3, Q16563, Q8IUH5]</td>\n",
       "      <td>MGDPSKQDILTIFKRLRSVPTNKVCFDCGAKNPSWASITYGVFLCI...</td>\n",
       "      <td>56,928</td>\n",
       "      <td>516</td>\n",
       "    </tr>\n",
       "    <tr>\n",
       "      <th>P36404</th>\n",
       "      <td>ARL2_HUMAN</td>\n",
       "      <td>ADP-ribosylation factor-like protein 2</td>\n",
       "      <td>[Q9Y2Y0, Q969G2, O43924, Q9BZK7, Q13432]</td>\n",
       "      <td>MGLLTILKKMKQKERELRLLMLGLDNAGKTTILKKFNGEDIDTISP...</td>\n",
       "      <td>20,878</td>\n",
       "      <td>184</td>\n",
       "    </tr>\n",
       "    <tr>\n",
       "      <th>Q9NQ90</th>\n",
       "      <td>ANO2_HUMAN</td>\n",
       "      <td>Anoctamin-2 (Transmembrane protein 16B)</td>\n",
       "      <td>[Q12959]</td>\n",
       "      <td>MATPGPRDIPLLPGSPRRLSPQAGSRGGQGPKHGQQCLKMPGPRAP...</td>\n",
       "      <td>113,969</td>\n",
       "      <td>1003</td>\n",
       "    </tr>\n",
       "  </tbody>\n",
       "</table>\n",
       "</div>"
      ],
      "text/plain": [
       "         Entry name                                      Protein names  \\\n",
       "Entry                                                                    \n",
       "Q13023  AKAP6_HUMAN  A-kinase anchor protein 6 (AKAP-6) (A-kinase a...   \n",
       "Q8WTP8    AEN_HUMAN  Apoptosis-enhancing nuclease (EC 3.1.-.-) (Int...   \n",
       "Q9NP61  ARFG3_HUMAN  ADP-ribosylation factor GTPase-activating prot...   \n",
       "P36404   ARL2_HUMAN             ADP-ribosylation factor-like protein 2   \n",
       "Q9NQ90   ANO2_HUMAN            Anoctamin-2 (Transmembrane protein 16B)   \n",
       "\n",
       "                                           Interacts with  \\\n",
       "Entry                                                       \n",
       "Q13023                                           [Q96CV9]   \n",
       "Q8WTP8  [C9JG97, P50402, Q96B26, Q3T906, Q8IX15-3, Q13...   \n",
       "Q9NP61                   [Q9H400, Q8WWV3, Q16563, Q8IUH5]   \n",
       "P36404           [Q9Y2Y0, Q969G2, O43924, Q9BZK7, Q13432]   \n",
       "Q9NQ90                                           [Q12959]   \n",
       "\n",
       "                                                 Sequence     Mass  Length  \n",
       "Entry                                                                       \n",
       "Q13023  MLTMSVTLSPLRSQDLDPMATDASPMAINMTPTVEQGEGEEAMKDM...  256,720    2319  \n",
       "Q8WTP8  MVPREAPESAQCLCPSLTIPNAKDVLRKRHKRRSRQHQRFMARKAL...   36,350     325  \n",
       "Q9NP61  MGDPSKQDILTIFKRLRSVPTNKVCFDCGAKNPSWASITYGVFLCI...   56,928     516  \n",
       "P36404  MGLLTILKKMKQKERELRLLMLGLDNAGKTTILKKFNGEDIDTISP...   20,878     184  \n",
       "Q9NQ90  MATPGPRDIPLLPGSPRRLSPQAGSRGGQGPKHGQQCLKMPGPRAP...  113,969    1003  "
      ]
     },
     "execution_count": 10,
     "metadata": {},
     "output_type": "execute_result"
    }
   ],
   "source": [
    "train.head()"
   ]
  },
  {
   "cell_type": "code",
   "execution_count": 11,
   "metadata": {},
   "outputs": [],
   "source": [
    "interacting_pairs = set()\n",
    "all_proteins = set()\n",
    "\n",
    "for protein1 in train.index:\n",
    "    all_proteins.add(protein1)\n",
    "    \n",
    "    for protein2 in train.loc[protein1,'Interacts with']:\n",
    "        all_proteins.add(protein2)\n",
    "        interacting_pairs.add(frozenset([protein1,protein2]))"
   ]
  },
  {
   "cell_type": "code",
   "execution_count": 12,
   "metadata": {},
   "outputs": [],
   "source": [
    "interact_df = pd.DataFrame({\"proteins\" : list(interacting_pairs), \"interacts\" : 1})"
   ]
  },
  {
   "cell_type": "code",
   "execution_count": 13,
   "metadata": {},
   "outputs": [
    {
     "data": {
      "text/html": [
       "<div>\n",
       "<style scoped>\n",
       "    .dataframe tbody tr th:only-of-type {\n",
       "        vertical-align: middle;\n",
       "    }\n",
       "\n",
       "    .dataframe tbody tr th {\n",
       "        vertical-align: top;\n",
       "    }\n",
       "\n",
       "    .dataframe thead th {\n",
       "        text-align: right;\n",
       "    }\n",
       "</style>\n",
       "<table border=\"1\" class=\"dataframe\">\n",
       "  <thead>\n",
       "    <tr style=\"text-align: right;\">\n",
       "      <th></th>\n",
       "      <th>proteins</th>\n",
       "      <th>interacts</th>\n",
       "    </tr>\n",
       "  </thead>\n",
       "  <tbody>\n",
       "    <tr>\n",
       "      <th>0</th>\n",
       "      <td>(Q13490, P14136)</td>\n",
       "      <td>1</td>\n",
       "    </tr>\n",
       "    <tr>\n",
       "      <th>1</th>\n",
       "      <td>(Q14525, P17661)</td>\n",
       "      <td>1</td>\n",
       "    </tr>\n",
       "    <tr>\n",
       "      <th>2</th>\n",
       "      <td>(Q96DT7, Q70IA8)</td>\n",
       "      <td>1</td>\n",
       "    </tr>\n",
       "    <tr>\n",
       "      <th>3</th>\n",
       "      <td>(Q9BSJ6, Q96DZ9-2)</td>\n",
       "      <td>1</td>\n",
       "    </tr>\n",
       "    <tr>\n",
       "      <th>4</th>\n",
       "      <td>(Q9UER7, P14921-1)</td>\n",
       "      <td>1</td>\n",
       "    </tr>\n",
       "  </tbody>\n",
       "</table>\n",
       "</div>"
      ],
      "text/plain": [
       "             proteins  interacts\n",
       "0    (Q13490, P14136)          1\n",
       "1    (Q14525, P17661)          1\n",
       "2    (Q96DT7, Q70IA8)          1\n",
       "3  (Q9BSJ6, Q96DZ9-2)          1\n",
       "4  (Q9UER7, P14921-1)          1"
      ]
     },
     "execution_count": 13,
     "metadata": {},
     "output_type": "execute_result"
    }
   ],
   "source": [
    "interact_df.head()"
   ]
  },
  {
   "cell_type": "code",
   "execution_count": 14,
   "metadata": {},
   "outputs": [],
   "source": [
    "def generate_noninteractors(n):\n",
    "    noninteractors = set()\n",
    "    while len(noninteractors) < n:\n",
    "        pair_pick = frozenset(np.random.choice(list(all_proteins), 2, replace=False))\n",
    "        if (pair_pick not in interacting_pairs):\n",
    "            noninteractors.add(pair_pick)\n",
    "    return noninteractors"
   ]
  },
  {
   "cell_type": "code",
   "execution_count": 15,
   "metadata": {},
   "outputs": [],
   "source": [
    "noninteracting_pairs = list(generate_noninteractors(interact_df.shape[0]))"
   ]
  },
  {
   "cell_type": "code",
   "execution_count": 16,
   "metadata": {},
   "outputs": [],
   "source": [
    "noninteract_df = pd.DataFrame({\"proteins\" : noninteracting_pairs, \"interacts\" : 0})"
   ]
  },
  {
   "cell_type": "code",
   "execution_count": 17,
   "metadata": {},
   "outputs": [
    {
     "data": {
      "text/html": [
       "<div>\n",
       "<style scoped>\n",
       "    .dataframe tbody tr th:only-of-type {\n",
       "        vertical-align: middle;\n",
       "    }\n",
       "\n",
       "    .dataframe tbody tr th {\n",
       "        vertical-align: top;\n",
       "    }\n",
       "\n",
       "    .dataframe thead th {\n",
       "        text-align: right;\n",
       "    }\n",
       "</style>\n",
       "<table border=\"1\" class=\"dataframe\">\n",
       "  <thead>\n",
       "    <tr style=\"text-align: right;\">\n",
       "      <th></th>\n",
       "      <th>proteins</th>\n",
       "      <th>interacts</th>\n",
       "    </tr>\n",
       "  </thead>\n",
       "  <tbody>\n",
       "    <tr>\n",
       "      <th>0</th>\n",
       "      <td>(P01135, Q96QC0)</td>\n",
       "      <td>0</td>\n",
       "    </tr>\n",
       "    <tr>\n",
       "      <th>1</th>\n",
       "      <td>(Q9Y221, O00422)</td>\n",
       "      <td>0</td>\n",
       "    </tr>\n",
       "    <tr>\n",
       "      <th>2</th>\n",
       "      <td>(Q6NUT3, Q04118)</td>\n",
       "      <td>0</td>\n",
       "    </tr>\n",
       "    <tr>\n",
       "      <th>3</th>\n",
       "      <td>(Q86SQ0, Q96J77)</td>\n",
       "      <td>0</td>\n",
       "    </tr>\n",
       "    <tr>\n",
       "      <th>4</th>\n",
       "      <td>(D6RGH6, A1L4H1)</td>\n",
       "      <td>0</td>\n",
       "    </tr>\n",
       "    <tr>\n",
       "      <th>...</th>\n",
       "      <td>...</td>\n",
       "      <td>...</td>\n",
       "    </tr>\n",
       "    <tr>\n",
       "      <th>89410</th>\n",
       "      <td>(Q6PK04, Q62101)</td>\n",
       "      <td>0</td>\n",
       "    </tr>\n",
       "    <tr>\n",
       "      <th>89411</th>\n",
       "      <td>(Q8BGY9, Q9BTD8)</td>\n",
       "      <td>0</td>\n",
       "    </tr>\n",
       "    <tr>\n",
       "      <th>89412</th>\n",
       "      <td>(P60228, Q13362-3)</td>\n",
       "      <td>0</td>\n",
       "    </tr>\n",
       "    <tr>\n",
       "      <th>89413</th>\n",
       "      <td>(Q9Y3I1-1, P12268)</td>\n",
       "      <td>0</td>\n",
       "    </tr>\n",
       "    <tr>\n",
       "      <th>89414</th>\n",
       "      <td>(Q8TF76, A0A0S2Z5F2)</td>\n",
       "      <td>0</td>\n",
       "    </tr>\n",
       "  </tbody>\n",
       "</table>\n",
       "<p>89415 rows × 2 columns</p>\n",
       "</div>"
      ],
      "text/plain": [
       "                   proteins  interacts\n",
       "0          (P01135, Q96QC0)          0\n",
       "1          (Q9Y221, O00422)          0\n",
       "2          (Q6NUT3, Q04118)          0\n",
       "3          (Q86SQ0, Q96J77)          0\n",
       "4          (D6RGH6, A1L4H1)          0\n",
       "...                     ...        ...\n",
       "89410      (Q6PK04, Q62101)          0\n",
       "89411      (Q8BGY9, Q9BTD8)          0\n",
       "89412    (P60228, Q13362-3)          0\n",
       "89413    (Q9Y3I1-1, P12268)          0\n",
       "89414  (Q8TF76, A0A0S2Z5F2)          0\n",
       "\n",
       "[89415 rows x 2 columns]"
      ]
     },
     "execution_count": 17,
     "metadata": {},
     "output_type": "execute_result"
    }
   ],
   "source": [
    "noninteract_df"
   ]
  },
  {
   "cell_type": "code",
   "execution_count": 18,
   "metadata": {},
   "outputs": [],
   "source": [
    "train_clean = pd.concat([interact_df,noninteract_df])\n",
    "train_clean.set_index(\"proteins\", inplace=True)"
   ]
  },
  {
   "cell_type": "code",
   "execution_count": 19,
   "metadata": {},
   "outputs": [
    {
     "data": {
      "text/html": [
       "<div>\n",
       "<style scoped>\n",
       "    .dataframe tbody tr th:only-of-type {\n",
       "        vertical-align: middle;\n",
       "    }\n",
       "\n",
       "    .dataframe tbody tr th {\n",
       "        vertical-align: top;\n",
       "    }\n",
       "\n",
       "    .dataframe thead th {\n",
       "        text-align: right;\n",
       "    }\n",
       "</style>\n",
       "<table border=\"1\" class=\"dataframe\">\n",
       "  <thead>\n",
       "    <tr style=\"text-align: right;\">\n",
       "      <th></th>\n",
       "      <th>interacts</th>\n",
       "    </tr>\n",
       "    <tr>\n",
       "      <th>proteins</th>\n",
       "      <th></th>\n",
       "    </tr>\n",
       "  </thead>\n",
       "  <tbody>\n",
       "    <tr>\n",
       "      <th>(Q13490, P14136)</th>\n",
       "      <td>1</td>\n",
       "    </tr>\n",
       "    <tr>\n",
       "      <th>(Q14525, P17661)</th>\n",
       "      <td>1</td>\n",
       "    </tr>\n",
       "    <tr>\n",
       "      <th>(Q96DT7, Q70IA8)</th>\n",
       "      <td>1</td>\n",
       "    </tr>\n",
       "    <tr>\n",
       "      <th>(Q9BSJ6, Q96DZ9-2)</th>\n",
       "      <td>1</td>\n",
       "    </tr>\n",
       "    <tr>\n",
       "      <th>(Q9UER7, P14921-1)</th>\n",
       "      <td>1</td>\n",
       "    </tr>\n",
       "    <tr>\n",
       "      <th>...</th>\n",
       "      <td>...</td>\n",
       "    </tr>\n",
       "    <tr>\n",
       "      <th>(Q6PK04, Q62101)</th>\n",
       "      <td>0</td>\n",
       "    </tr>\n",
       "    <tr>\n",
       "      <th>(Q8BGY9, Q9BTD8)</th>\n",
       "      <td>0</td>\n",
       "    </tr>\n",
       "    <tr>\n",
       "      <th>(P60228, Q13362-3)</th>\n",
       "      <td>0</td>\n",
       "    </tr>\n",
       "    <tr>\n",
       "      <th>(Q9Y3I1-1, P12268)</th>\n",
       "      <td>0</td>\n",
       "    </tr>\n",
       "    <tr>\n",
       "      <th>(Q8TF76, A0A0S2Z5F2)</th>\n",
       "      <td>0</td>\n",
       "    </tr>\n",
       "  </tbody>\n",
       "</table>\n",
       "<p>178830 rows × 1 columns</p>\n",
       "</div>"
      ],
      "text/plain": [
       "                      interacts\n",
       "proteins                       \n",
       "(Q13490, P14136)              1\n",
       "(Q14525, P17661)              1\n",
       "(Q96DT7, Q70IA8)              1\n",
       "(Q9BSJ6, Q96DZ9-2)            1\n",
       "(Q9UER7, P14921-1)            1\n",
       "...                         ...\n",
       "(Q6PK04, Q62101)              0\n",
       "(Q8BGY9, Q9BTD8)              0\n",
       "(P60228, Q13362-3)            0\n",
       "(Q9Y3I1-1, P12268)            0\n",
       "(Q8TF76, A0A0S2Z5F2)          0\n",
       "\n",
       "[178830 rows x 1 columns]"
      ]
     },
     "execution_count": 19,
     "metadata": {},
     "output_type": "execute_result"
    }
   ],
   "source": [
    "train_clean"
   ]
  },
  {
   "cell_type": "code",
   "execution_count": 20,
   "metadata": {},
   "outputs": [],
   "source": [
    "i = 0\n",
    "train_clean[\"seq1\"] = np.nan\n",
    "train_clean[\"seq2\"] = np.nan\n",
    "\n",
    "for pair in train_clean.index:\n",
    "    try:\n",
    "        train_clean.iloc[i,1] = train.loc[list(pair)[0],\"Sequence\"]\n",
    "        train_clean.iloc[i,2] = train.loc[list(pair)[1],\"Sequence\"]\n",
    "    except:\n",
    "        pass\n",
    "    i += 1"
   ]
  },
  {
   "cell_type": "code",
   "execution_count": 21,
   "metadata": {},
   "outputs": [
    {
     "name": "stdout",
     "output_type": "stream",
     "text": [
      "<class 'pandas.core.frame.DataFrame'>\n",
      "Index: 178830 entries, frozenset({'Q13490', 'P14136'}) to frozenset({'Q8TF76', 'A0A0S2Z5F2'})\n",
      "Data columns (total 3 columns):\n",
      " #   Column     Non-Null Count   Dtype \n",
      "---  ------     --------------   ----- \n",
      " 0   interacts  178830 non-null  int64 \n",
      " 1   seq1       143320 non-null  object\n",
      " 2   seq2       114803 non-null  object\n",
      "dtypes: int64(1), object(2)\n",
      "memory usage: 5.5+ MB\n"
     ]
    }
   ],
   "source": [
    "train_clean.info()"
   ]
  },
  {
   "cell_type": "code",
   "execution_count": 22,
   "metadata": {},
   "outputs": [
    {
     "name": "stdout",
     "output_type": "stream",
     "text": [
      "<class 'pandas.core.frame.DataFrame'>\n",
      "Index: 114803 entries, frozenset({'Q13490', 'P14136'}) to frozenset({'Q14585', 'Q96KM6'})\n",
      "Data columns (total 3 columns):\n",
      " #   Column     Non-Null Count   Dtype \n",
      "---  ------     --------------   ----- \n",
      " 0   interacts  114803 non-null  int64 \n",
      " 1   seq1       114803 non-null  object\n",
      " 2   seq2       114803 non-null  object\n",
      "dtypes: int64(1), object(2)\n",
      "memory usage: 3.5+ MB\n"
     ]
    }
   ],
   "source": [
    "train_clean.dropna(inplace=True)\n",
    "train_clean.info()"
   ]
  },
  {
   "cell_type": "markdown",
   "metadata": {},
   "source": [
    "After cleaning and preparation.  The training dataset has ~115,000 pairs of proteins."
   ]
  },
  {
   "cell_type": "code",
   "execution_count": 23,
   "metadata": {},
   "outputs": [],
   "source": [
    "train_clean.to_csv(\"./data/train_clean.csv\")"
   ]
  }
 ],
 "metadata": {
  "kernelspec": {
   "display_name": "Python 3",
   "language": "python",
   "name": "python3"
  },
  "language_info": {
   "codemirror_mode": {
    "name": "ipython",
    "version": 3
   },
   "file_extension": ".py",
   "mimetype": "text/x-python",
   "name": "python",
   "nbconvert_exporter": "python",
   "pygments_lexer": "ipython3",
   "version": "3.7.7"
  }
 },
 "nbformat": 4,
 "nbformat_minor": 4
}
