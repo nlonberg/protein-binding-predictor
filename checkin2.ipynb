{
 "cells": [
  {
   "cell_type": "markdown",
   "metadata": {},
   "source": [
    "# Capstone Check-In Two"
   ]
  },
  {
   "cell_type": "markdown",
   "metadata": {},
   "source": [
    "## Proposal\n",
    "My capstone project is the creation of a protein-binding predictive model using primary structure.  Originally, I hoped to create a regressor that predicts the protein binding affinity for an inputted pair of proteins.  But, I have simplified the scope to a binary classification: interacts or doesn't interact.  Such a predictive model could be used to determine if newly sequenced viral proteins, like those on the surface of novel coronavirus, bind to human membrane receptors.  Identifying protein-protein interactions without laboratory processes is an important application of machine learning."
   ]
  },
  {
   "cell_type": "markdown",
   "metadata": {},
   "source": [
    "## Problem Statement\n",
    "SARS-COV-2 has infected at least 30 million people worldwide.  The global efforts to find a vaccine, treat COVID-19, and understand the virus can only be described as the largest scientific project every undertaken.  One branch of this project is mapping interactions between SARS-COV-2 surface proteins to human membrane receptors.  The goal of this project is to train a binary classifier to identify whether two inputted proteins interact or not.  The model will be applied to recently sequenced SARS-COV-2 surface proteins to determine their likely human targets."
   ]
  },
  {
   "cell_type": "markdown",
   "metadata": {},
   "source": [
    "## Methods and Models\n",
    "The model will be trained on the primary structures (amino acid sequences) of thousands of protein profiles scraped from the UniProt protein database.  We are not interested in inferences (e.g. \"presence of cysteines in both molecules increases the chance of interaction\"), we are interested in accuracy.  Considering the complexity of protein data, we should move immediately to deep learning to extract as much predicting strength from the amino acid strings as possible.  I anticipate tuning a Convolutional Neural Network"
   ]
  },
  {
   "cell_type": "markdown",
   "metadata": {},
   "source": [
    "## Risks and Assumptions\n",
    "Predicting chemical forces between macromolecules is a vastly complex task that often involves computationally exhausting 3D modeling.  Limiting our model training to a 1D amino acid string avoids this problem, but also lowers our expectations for the model's performance.  However, we are still expecting the model to be able to intuit enough chemical understanding from just amino acids to predict binding.  This is a huge assumption the relies on the strength of deep learning and the size of our training data.  A potential risk of the project is that the model entirely fails to discern meaningful information from primary structure and secondary structure data (presence of alpha helices, beta sheets, etc.) must be added to the training set."
   ]
  },
  {
   "cell_type": "markdown",
   "metadata": {},
   "source": [
    "## Data Source\n",
    "The commented code below includes saved functions that query the RCSB Protein DataBase. I originally scraped from this site, but ended up switching to UniProt. I've kept the code below, just in case I want to gather corroborating data later on.\n",
    "\n",
    "I customized advanced queries from UniProt to only select human proteins with at least one interactor.  I choose to include protein mass, length, sequence, and interactors as my columns.\n",
    "\n",
    "https://www.uniprot.org/"
   ]
  },
  {
   "cell_type": "markdown",
   "metadata": {},
   "source": [
    "## EDA\n"
   ]
  },
  {
   "cell_type": "code",
   "execution_count": 9,
   "metadata": {},
   "outputs": [],
   "source": [
    "import pandas as pd\n",
    "import numpy as np\n",
    "import seaborn as sns\n",
    "import matplotlib.pyplot as plt\n",
    "import requests"
   ]
  },
  {
   "cell_type": "markdown",
   "metadata": {},
   "source": [
    "The commented code below includes saved functions that query the RCSB Protein DataBase. I originally scraped from this site, but ended up switching to UniProt. I've kept the code below, just in case I want to gather corroborating data later on."
   ]
  },
  {
   "cell_type": "code",
   "execution_count": 25,
   "metadata": {},
   "outputs": [],
   "source": [
    "# # This function is adapted from Carlos Oliver\n",
    "# # https://www.rcsb.org/pages/webservices/python3_search_nmr\n",
    "\n",
    "# def experimental_query(method):\n",
    "#     url = 'http://www.rcsb.org/pdb/rest/search'\n",
    "\n",
    "#     query_text = \"\"\"\n",
    "# <?xml version=\"1.0\" encoding=\"UTF-8\"?>\n",
    "\n",
    "# <orgPdbQuery>\n",
    "\n",
    "# <version>B0907</version>\n",
    "\n",
    "# <queryType>org.pdb.query.simple.ExpTypeQuery</queryType>\n",
    "\n",
    "# <description>Experimental Method Search: Experimental Method=\"\"\"+method+\"\"\"</description>\n",
    "\n",
    "# <mvStructure.expMethod.value>\"\"\"+method+\"\"\"</mvStructure.expMethod.value>\n",
    "\n",
    "# </orgPdbQuery>\n",
    "\n",
    "# \"\"\"\n",
    "#     query_helper(query_text)\n",
    "\n",
    "# def query_helper(query_text):    \n",
    "\n",
    "#     print(\"Query: %s\" % query_text)\n",
    "#     print(\"Querying RCSB PDB REST API...\")\n",
    "\n",
    "#     header = {'Content-Type': 'application/x-www-form-urlencoded'}\n",
    "\n",
    "#     response = requests.post(url, data=query_text, headers=header)\n",
    "\n",
    "#     if response.status_code == 200:\n",
    "#         print(\"Found %d PDB entries matching query.\" % len(response.text))\n",
    "#         print(\"Matches: \\n%s\" % response.text)\n",
    "#     else:\n",
    "#         print(\"Failed to retrieve results\")"
   ]
  },
  {
   "cell_type": "code",
   "execution_count": 26,
   "metadata": {},
   "outputs": [],
   "source": [
    "# solid_state = \"SOLID-STATE NMR\"\n",
    "# experimental_query(solid_state)"
   ]
  },
  {
   "cell_type": "code",
   "execution_count": 7,
   "metadata": {},
   "outputs": [],
   "source": [
    "train = pd.read_excel(\"./train_set.xlsx\")\n",
    "test = pd.read_excel(\"./test_set.xlsx\")"
   ]
  },
  {
   "cell_type": "code",
   "execution_count": 10,
   "metadata": {},
   "outputs": [
    {
     "data": {
      "text/html": [
       "<div>\n",
       "<style scoped>\n",
       "    .dataframe tbody tr th:only-of-type {\n",
       "        vertical-align: middle;\n",
       "    }\n",
       "\n",
       "    .dataframe tbody tr th {\n",
       "        vertical-align: top;\n",
       "    }\n",
       "\n",
       "    .dataframe thead th {\n",
       "        text-align: right;\n",
       "    }\n",
       "</style>\n",
       "<table border=\"1\" class=\"dataframe\">\n",
       "  <thead>\n",
       "    <tr style=\"text-align: right;\">\n",
       "      <th></th>\n",
       "      <th>Entry</th>\n",
       "      <th>Entry name</th>\n",
       "      <th>Protein names</th>\n",
       "      <th>Interacts with</th>\n",
       "      <th>Sequence</th>\n",
       "      <th>Mass</th>\n",
       "      <th>Length</th>\n",
       "    </tr>\n",
       "  </thead>\n",
       "  <tbody>\n",
       "    <tr>\n",
       "      <th>0</th>\n",
       "      <td>Q13023</td>\n",
       "      <td>AKAP6_HUMAN</td>\n",
       "      <td>A-kinase anchor protein 6 (AKAP-6) (A-kinase a...</td>\n",
       "      <td>Q96CV9</td>\n",
       "      <td>MLTMSVTLSPLRSQDLDPMATDASPMAINMTPTVEQGEGEEAMKDM...</td>\n",
       "      <td>256,720</td>\n",
       "      <td>2319</td>\n",
       "    </tr>\n",
       "    <tr>\n",
       "      <th>1</th>\n",
       "      <td>Q8WTP8</td>\n",
       "      <td>AEN_HUMAN</td>\n",
       "      <td>Apoptosis-enhancing nuclease (EC 3.1.-.-) (Int...</td>\n",
       "      <td>C9JG97; P50402; Q96B26; Q3T906; Q8IX15-3; Q134...</td>\n",
       "      <td>MVPREAPESAQCLCPSLTIPNAKDVLRKRHKRRSRQHQRFMARKAL...</td>\n",
       "      <td>36,350</td>\n",
       "      <td>325</td>\n",
       "    </tr>\n",
       "    <tr>\n",
       "      <th>2</th>\n",
       "      <td>Q9NP61</td>\n",
       "      <td>ARFG3_HUMAN</td>\n",
       "      <td>ADP-ribosylation factor GTPase-activating prot...</td>\n",
       "      <td>Q9H400; Q8WWV3; Q16563; Q8IUH5</td>\n",
       "      <td>MGDPSKQDILTIFKRLRSVPTNKVCFDCGAKNPSWASITYGVFLCI...</td>\n",
       "      <td>56,928</td>\n",
       "      <td>516</td>\n",
       "    </tr>\n",
       "    <tr>\n",
       "      <th>3</th>\n",
       "      <td>P36404</td>\n",
       "      <td>ARL2_HUMAN</td>\n",
       "      <td>ADP-ribosylation factor-like protein 2</td>\n",
       "      <td>Q9Y2Y0; Q969G2; O43924; Q9BZK7; Q13432</td>\n",
       "      <td>MGLLTILKKMKQKERELRLLMLGLDNAGKTTILKKFNGEDIDTISP...</td>\n",
       "      <td>20,878</td>\n",
       "      <td>184</td>\n",
       "    </tr>\n",
       "    <tr>\n",
       "      <th>4</th>\n",
       "      <td>Q9NQ90</td>\n",
       "      <td>ANO2_HUMAN</td>\n",
       "      <td>Anoctamin-2 (Transmembrane protein 16B)</td>\n",
       "      <td>Q12959</td>\n",
       "      <td>MATPGPRDIPLLPGSPRRLSPQAGSRGGQGPKHGQQCLKMPGPRAP...</td>\n",
       "      <td>113,969</td>\n",
       "      <td>1003</td>\n",
       "    </tr>\n",
       "  </tbody>\n",
       "</table>\n",
       "</div>"
      ],
      "text/plain": [
       "    Entry   Entry name                                      Protein names  \\\n",
       "0  Q13023  AKAP6_HUMAN  A-kinase anchor protein 6 (AKAP-6) (A-kinase a...   \n",
       "1  Q8WTP8    AEN_HUMAN  Apoptosis-enhancing nuclease (EC 3.1.-.-) (Int...   \n",
       "2  Q9NP61  ARFG3_HUMAN  ADP-ribosylation factor GTPase-activating prot...   \n",
       "3  P36404   ARL2_HUMAN             ADP-ribosylation factor-like protein 2   \n",
       "4  Q9NQ90   ANO2_HUMAN            Anoctamin-2 (Transmembrane protein 16B)   \n",
       "\n",
       "                                      Interacts with  \\\n",
       "0                                             Q96CV9   \n",
       "1  C9JG97; P50402; Q96B26; Q3T906; Q8IX15-3; Q134...   \n",
       "2                     Q9H400; Q8WWV3; Q16563; Q8IUH5   \n",
       "3             Q9Y2Y0; Q969G2; O43924; Q9BZK7; Q13432   \n",
       "4                                             Q12959   \n",
       "\n",
       "                                            Sequence     Mass  Length  \n",
       "0  MLTMSVTLSPLRSQDLDPMATDASPMAINMTPTVEQGEGEEAMKDM...  256,720    2319  \n",
       "1  MVPREAPESAQCLCPSLTIPNAKDVLRKRHKRRSRQHQRFMARKAL...   36,350     325  \n",
       "2  MGDPSKQDILTIFKRLRSVPTNKVCFDCGAKNPSWASITYGVFLCI...   56,928     516  \n",
       "3  MGLLTILKKMKQKERELRLLMLGLDNAGKTTILKKFNGEDIDTISP...   20,878     184  \n",
       "4  MATPGPRDIPLLPGSPRRLSPQAGSRGGQGPKHGQQCLKMPGPRAP...  113,969    1003  "
      ]
     },
     "execution_count": 10,
     "metadata": {},
     "output_type": "execute_result"
    }
   ],
   "source": [
    "train.head()"
   ]
  },
  {
   "cell_type": "code",
   "execution_count": 13,
   "metadata": {},
   "outputs": [
    {
     "data": {
      "text/plain": [
       "(11935, 7)"
      ]
     },
     "execution_count": 13,
     "metadata": {},
     "output_type": "execute_result"
    }
   ],
   "source": [
    "# Let's look at the training dataset\n",
    "train.shape"
   ]
  },
  {
   "cell_type": "markdown",
   "metadata": {},
   "source": [
    "There are 11935 proteins in our training dataset."
   ]
  },
  {
   "cell_type": "code",
   "execution_count": 14,
   "metadata": {},
   "outputs": [
    {
     "data": {
      "text/html": [
       "<div>\n",
       "<style scoped>\n",
       "    .dataframe tbody tr th:only-of-type {\n",
       "        vertical-align: middle;\n",
       "    }\n",
       "\n",
       "    .dataframe tbody tr th {\n",
       "        vertical-align: top;\n",
       "    }\n",
       "\n",
       "    .dataframe thead th {\n",
       "        text-align: right;\n",
       "    }\n",
       "</style>\n",
       "<table border=\"1\" class=\"dataframe\">\n",
       "  <thead>\n",
       "    <tr style=\"text-align: right;\">\n",
       "      <th></th>\n",
       "      <th>Entry name</th>\n",
       "      <th>Protein names</th>\n",
       "      <th>Interacts with</th>\n",
       "      <th>Sequence</th>\n",
       "      <th>Mass</th>\n",
       "      <th>Length</th>\n",
       "    </tr>\n",
       "    <tr>\n",
       "      <th>Entry</th>\n",
       "      <th></th>\n",
       "      <th></th>\n",
       "      <th></th>\n",
       "      <th></th>\n",
       "      <th></th>\n",
       "      <th></th>\n",
       "    </tr>\n",
       "  </thead>\n",
       "  <tbody>\n",
       "    <tr>\n",
       "      <th>Q13023</th>\n",
       "      <td>AKAP6_HUMAN</td>\n",
       "      <td>A-kinase anchor protein 6 (AKAP-6) (A-kinase a...</td>\n",
       "      <td>Q96CV9</td>\n",
       "      <td>MLTMSVTLSPLRSQDLDPMATDASPMAINMTPTVEQGEGEEAMKDM...</td>\n",
       "      <td>256,720</td>\n",
       "      <td>2319</td>\n",
       "    </tr>\n",
       "    <tr>\n",
       "      <th>Q8WTP8</th>\n",
       "      <td>AEN_HUMAN</td>\n",
       "      <td>Apoptosis-enhancing nuclease (EC 3.1.-.-) (Int...</td>\n",
       "      <td>C9JG97; P50402; Q96B26; Q3T906; Q8IX15-3; Q134...</td>\n",
       "      <td>MVPREAPESAQCLCPSLTIPNAKDVLRKRHKRRSRQHQRFMARKAL...</td>\n",
       "      <td>36,350</td>\n",
       "      <td>325</td>\n",
       "    </tr>\n",
       "    <tr>\n",
       "      <th>Q9NP61</th>\n",
       "      <td>ARFG3_HUMAN</td>\n",
       "      <td>ADP-ribosylation factor GTPase-activating prot...</td>\n",
       "      <td>Q9H400; Q8WWV3; Q16563; Q8IUH5</td>\n",
       "      <td>MGDPSKQDILTIFKRLRSVPTNKVCFDCGAKNPSWASITYGVFLCI...</td>\n",
       "      <td>56,928</td>\n",
       "      <td>516</td>\n",
       "    </tr>\n",
       "    <tr>\n",
       "      <th>P36404</th>\n",
       "      <td>ARL2_HUMAN</td>\n",
       "      <td>ADP-ribosylation factor-like protein 2</td>\n",
       "      <td>Q9Y2Y0; Q969G2; O43924; Q9BZK7; Q13432</td>\n",
       "      <td>MGLLTILKKMKQKERELRLLMLGLDNAGKTTILKKFNGEDIDTISP...</td>\n",
       "      <td>20,878</td>\n",
       "      <td>184</td>\n",
       "    </tr>\n",
       "    <tr>\n",
       "      <th>Q9NQ90</th>\n",
       "      <td>ANO2_HUMAN</td>\n",
       "      <td>Anoctamin-2 (Transmembrane protein 16B)</td>\n",
       "      <td>Q12959</td>\n",
       "      <td>MATPGPRDIPLLPGSPRRLSPQAGSRGGQGPKHGQQCLKMPGPRAP...</td>\n",
       "      <td>113,969</td>\n",
       "      <td>1003</td>\n",
       "    </tr>\n",
       "  </tbody>\n",
       "</table>\n",
       "</div>"
      ],
      "text/plain": [
       "         Entry name                                      Protein names  \\\n",
       "Entry                                                                    \n",
       "Q13023  AKAP6_HUMAN  A-kinase anchor protein 6 (AKAP-6) (A-kinase a...   \n",
       "Q8WTP8    AEN_HUMAN  Apoptosis-enhancing nuclease (EC 3.1.-.-) (Int...   \n",
       "Q9NP61  ARFG3_HUMAN  ADP-ribosylation factor GTPase-activating prot...   \n",
       "P36404   ARL2_HUMAN             ADP-ribosylation factor-like protein 2   \n",
       "Q9NQ90   ANO2_HUMAN            Anoctamin-2 (Transmembrane protein 16B)   \n",
       "\n",
       "                                           Interacts with  \\\n",
       "Entry                                                       \n",
       "Q13023                                             Q96CV9   \n",
       "Q8WTP8  C9JG97; P50402; Q96B26; Q3T906; Q8IX15-3; Q134...   \n",
       "Q9NP61                     Q9H400; Q8WWV3; Q16563; Q8IUH5   \n",
       "P36404             Q9Y2Y0; Q969G2; O43924; Q9BZK7; Q13432   \n",
       "Q9NQ90                                             Q12959   \n",
       "\n",
       "                                                 Sequence     Mass  Length  \n",
       "Entry                                                                       \n",
       "Q13023  MLTMSVTLSPLRSQDLDPMATDASPMAINMTPTVEQGEGEEAMKDM...  256,720    2319  \n",
       "Q8WTP8  MVPREAPESAQCLCPSLTIPNAKDVLRKRHKRRSRQHQRFMARKAL...   36,350     325  \n",
       "Q9NP61  MGDPSKQDILTIFKRLRSVPTNKVCFDCGAKNPSWASITYGVFLCI...   56,928     516  \n",
       "P36404  MGLLTILKKMKQKERELRLLMLGLDNAGKTTILKKFNGEDIDTISP...   20,878     184  \n",
       "Q9NQ90  MATPGPRDIPLLPGSPRRLSPQAGSRGGQGPKHGQQCLKMPGPRAP...  113,969    1003  "
      ]
     },
     "execution_count": 14,
     "metadata": {},
     "output_type": "execute_result"
    }
   ],
   "source": [
    "train.set_index(\"Entry\", inplace=True)\n",
    "train.head()"
   ]
  },
  {
   "cell_type": "code",
   "execution_count": 15,
   "metadata": {},
   "outputs": [],
   "source": [
    "train[\"Interacts with\"] = train[\"Interacts with\"].apply(lambda a: a.split(\";\"))"
   ]
  },
  {
   "cell_type": "code",
   "execution_count": 16,
   "metadata": {},
   "outputs": [
    {
     "data": {
      "text/html": [
       "<div>\n",
       "<style scoped>\n",
       "    .dataframe tbody tr th:only-of-type {\n",
       "        vertical-align: middle;\n",
       "    }\n",
       "\n",
       "    .dataframe tbody tr th {\n",
       "        vertical-align: top;\n",
       "    }\n",
       "\n",
       "    .dataframe thead th {\n",
       "        text-align: right;\n",
       "    }\n",
       "</style>\n",
       "<table border=\"1\" class=\"dataframe\">\n",
       "  <thead>\n",
       "    <tr style=\"text-align: right;\">\n",
       "      <th></th>\n",
       "      <th>Entry name</th>\n",
       "      <th>Protein names</th>\n",
       "      <th>Interacts with</th>\n",
       "      <th>Sequence</th>\n",
       "      <th>Mass</th>\n",
       "      <th>Length</th>\n",
       "    </tr>\n",
       "    <tr>\n",
       "      <th>Entry</th>\n",
       "      <th></th>\n",
       "      <th></th>\n",
       "      <th></th>\n",
       "      <th></th>\n",
       "      <th></th>\n",
       "      <th></th>\n",
       "    </tr>\n",
       "  </thead>\n",
       "  <tbody>\n",
       "    <tr>\n",
       "      <th>Q13023</th>\n",
       "      <td>AKAP6_HUMAN</td>\n",
       "      <td>A-kinase anchor protein 6 (AKAP-6) (A-kinase a...</td>\n",
       "      <td>[Q96CV9]</td>\n",
       "      <td>MLTMSVTLSPLRSQDLDPMATDASPMAINMTPTVEQGEGEEAMKDM...</td>\n",
       "      <td>256,720</td>\n",
       "      <td>2319</td>\n",
       "    </tr>\n",
       "    <tr>\n",
       "      <th>Q8WTP8</th>\n",
       "      <td>AEN_HUMAN</td>\n",
       "      <td>Apoptosis-enhancing nuclease (EC 3.1.-.-) (Int...</td>\n",
       "      <td>[C9JG97,  P50402,  Q96B26,  Q3T906,  Q8IX15-3,...</td>\n",
       "      <td>MVPREAPESAQCLCPSLTIPNAKDVLRKRHKRRSRQHQRFMARKAL...</td>\n",
       "      <td>36,350</td>\n",
       "      <td>325</td>\n",
       "    </tr>\n",
       "    <tr>\n",
       "      <th>Q9NP61</th>\n",
       "      <td>ARFG3_HUMAN</td>\n",
       "      <td>ADP-ribosylation factor GTPase-activating prot...</td>\n",
       "      <td>[Q9H400,  Q8WWV3,  Q16563,  Q8IUH5]</td>\n",
       "      <td>MGDPSKQDILTIFKRLRSVPTNKVCFDCGAKNPSWASITYGVFLCI...</td>\n",
       "      <td>56,928</td>\n",
       "      <td>516</td>\n",
       "    </tr>\n",
       "    <tr>\n",
       "      <th>P36404</th>\n",
       "      <td>ARL2_HUMAN</td>\n",
       "      <td>ADP-ribosylation factor-like protein 2</td>\n",
       "      <td>[Q9Y2Y0,  Q969G2,  O43924,  Q9BZK7,  Q13432]</td>\n",
       "      <td>MGLLTILKKMKQKERELRLLMLGLDNAGKTTILKKFNGEDIDTISP...</td>\n",
       "      <td>20,878</td>\n",
       "      <td>184</td>\n",
       "    </tr>\n",
       "    <tr>\n",
       "      <th>Q9NQ90</th>\n",
       "      <td>ANO2_HUMAN</td>\n",
       "      <td>Anoctamin-2 (Transmembrane protein 16B)</td>\n",
       "      <td>[Q12959]</td>\n",
       "      <td>MATPGPRDIPLLPGSPRRLSPQAGSRGGQGPKHGQQCLKMPGPRAP...</td>\n",
       "      <td>113,969</td>\n",
       "      <td>1003</td>\n",
       "    </tr>\n",
       "  </tbody>\n",
       "</table>\n",
       "</div>"
      ],
      "text/plain": [
       "         Entry name                                      Protein names  \\\n",
       "Entry                                                                    \n",
       "Q13023  AKAP6_HUMAN  A-kinase anchor protein 6 (AKAP-6) (A-kinase a...   \n",
       "Q8WTP8    AEN_HUMAN  Apoptosis-enhancing nuclease (EC 3.1.-.-) (Int...   \n",
       "Q9NP61  ARFG3_HUMAN  ADP-ribosylation factor GTPase-activating prot...   \n",
       "P36404   ARL2_HUMAN             ADP-ribosylation factor-like protein 2   \n",
       "Q9NQ90   ANO2_HUMAN            Anoctamin-2 (Transmembrane protein 16B)   \n",
       "\n",
       "                                           Interacts with  \\\n",
       "Entry                                                       \n",
       "Q13023                                           [Q96CV9]   \n",
       "Q8WTP8  [C9JG97,  P50402,  Q96B26,  Q3T906,  Q8IX15-3,...   \n",
       "Q9NP61                [Q9H400,  Q8WWV3,  Q16563,  Q8IUH5]   \n",
       "P36404       [Q9Y2Y0,  Q969G2,  O43924,  Q9BZK7,  Q13432]   \n",
       "Q9NQ90                                           [Q12959]   \n",
       "\n",
       "                                                 Sequence     Mass  Length  \n",
       "Entry                                                                       \n",
       "Q13023  MLTMSVTLSPLRSQDLDPMATDASPMAINMTPTVEQGEGEEAMKDM...  256,720    2319  \n",
       "Q8WTP8  MVPREAPESAQCLCPSLTIPNAKDVLRKRHKRRSRQHQRFMARKAL...   36,350     325  \n",
       "Q9NP61  MGDPSKQDILTIFKRLRSVPTNKVCFDCGAKNPSWASITYGVFLCI...   56,928     516  \n",
       "P36404  MGLLTILKKMKQKERELRLLMLGLDNAGKTTILKKFNGEDIDTISP...   20,878     184  \n",
       "Q9NQ90  MATPGPRDIPLLPGSPRRLSPQAGSRGGQGPKHGQQCLKMPGPRAP...  113,969    1003  "
      ]
     },
     "execution_count": 16,
     "metadata": {},
     "output_type": "execute_result"
    }
   ],
   "source": [
    "train.head()"
   ]
  },
  {
   "cell_type": "code",
   "execution_count": 17,
   "metadata": {},
   "outputs": [],
   "source": [
    "total_proteins = train.index"
   ]
  },
  {
   "cell_type": "code",
   "execution_count": 22,
   "metadata": {},
   "outputs": [],
   "source": [
    "# for interactors in train['Interacts with']:\n",
    "#     for i in interactors:\n",
    "#         total_proteins.append(i)\n",
    "        \n",
    "# total_proteins = set(total_proteins)"
   ]
  },
  {
   "cell_type": "code",
   "execution_count": null,
   "metadata": {},
   "outputs": [],
   "source": []
  }
 ],
 "metadata": {
  "kernelspec": {
   "display_name": "Python 3",
   "language": "python",
   "name": "python3"
  },
  "language_info": {
   "codemirror_mode": {
    "name": "ipython",
    "version": 3
   },
   "file_extension": ".py",
   "mimetype": "text/x-python",
   "name": "python",
   "nbconvert_exporter": "python",
   "pygments_lexer": "ipython3",
   "version": "3.7.7"
  }
 },
 "nbformat": 4,
 "nbformat_minor": 4
}
