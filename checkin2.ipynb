{
 "cells": [
  {
   "cell_type": "code",
   "execution_count": 19,
   "metadata": {},
   "outputs": [],
   "source": [
    "import pandas as pd\n",
    "import numpy as np\n",
    "import seaborn as sns\n",
    "import matplotlib.pyplot as plt\n",
    "import requests"
   ]
  },
  {
   "cell_type": "markdown",
   "metadata": {},
   "source": [
    "The commented code below includes saved functions that query the RCSB Protein DataBase. I originally scraped from this site, but ended up switching to UniProt. I've kept the code below, just in case I want to gather corroborating data later on."
   ]
  },
  {
   "cell_type": "code",
   "execution_count": 25,
   "metadata": {},
   "outputs": [],
   "source": [
    "# # This function is adapted from Carlos Oliver\n",
    "# # https://www.rcsb.org/pages/webservices/python3_search_nmr\n",
    "\n",
    "# def experimental_query(method):\n",
    "#     url = 'http://www.rcsb.org/pdb/rest/search'\n",
    "\n",
    "#     query_text = \"\"\"\n",
    "# <?xml version=\"1.0\" encoding=\"UTF-8\"?>\n",
    "\n",
    "# <orgPdbQuery>\n",
    "\n",
    "# <version>B0907</version>\n",
    "\n",
    "# <queryType>org.pdb.query.simple.ExpTypeQuery</queryType>\n",
    "\n",
    "# <description>Experimental Method Search: Experimental Method=\"\"\"+method+\"\"\"</description>\n",
    "\n",
    "# <mvStructure.expMethod.value>\"\"\"+method+\"\"\"</mvStructure.expMethod.value>\n",
    "\n",
    "# </orgPdbQuery>\n",
    "\n",
    "# \"\"\"\n",
    "#     query_helper(query_text)\n",
    "\n",
    "# def query_helper(query_text):    \n",
    "\n",
    "#     print(\"Query: %s\" % query_text)\n",
    "#     print(\"Querying RCSB PDB REST API...\")\n",
    "\n",
    "#     header = {'Content-Type': 'application/x-www-form-urlencoded'}\n",
    "\n",
    "#     response = requests.post(url, data=query_text, headers=header)\n",
    "\n",
    "#     if response.status_code == 200:\n",
    "#         print(\"Found %d PDB entries matching query.\" % len(response.text))\n",
    "#         print(\"Matches: \\n%s\" % response.text)\n",
    "#     else:\n",
    "#         print(\"Failed to retrieve results\")"
   ]
  },
  {
   "cell_type": "code",
   "execution_count": 26,
   "metadata": {},
   "outputs": [],
   "source": [
    "# solid_state = \"SOLID-STATE NMR\"\n",
    "# experimental_query(solid_state)"
   ]
  },
  {
   "cell_type": "markdown",
   "metadata": {},
   "source": [
    "## Data Collection\n",
    "I customized advanced queries from UniProt to only select human proteins with at least one interactor.  I choose to include protein mass, length, sequence, and interactors as "
   ]
  },
  {
   "cell_type": "code",
   "execution_count": null,
   "metadata": {},
   "outputs": [],
   "source": [
    "train = pd.read_csv(\"./train_set.csv\")\n",
    "test = pd.read_csv(\"./test_set.csv\")"
   ]
  }
 ],
 "metadata": {
  "kernelspec": {
   "display_name": "Python 3",
   "language": "python",
   "name": "python3"
  },
  "language_info": {
   "codemirror_mode": {
    "name": "ipython",
    "version": 3
   },
   "file_extension": ".py",
   "mimetype": "text/x-python",
   "name": "python",
   "nbconvert_exporter": "python",
   "pygments_lexer": "ipython3",
   "version": "3.7.7"
  }
 },
 "nbformat": 4,
 "nbformat_minor": 4
}
